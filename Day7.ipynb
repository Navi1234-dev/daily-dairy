{
  "nbformat": 4,
  "nbformat_minor": 0,
  "metadata": {
    "colab": {
      "provenance": [],
      "authorship_tag": "ABX9TyPuJGaee95exRWRXpKQkjI3",
      "include_colab_link": true
    },
    "kernelspec": {
      "name": "python3",
      "display_name": "Python 3"
    },
    "language_info": {
      "name": "python"
    }
  },
  "cells": [
    {
      "cell_type": "markdown",
      "metadata": {
        "id": "view-in-github",
        "colab_type": "text"
      },
      "source": [
        "<a href=\"https://colab.research.google.com/github/Navi1234-dev/daily-dairy/blob/main/Day7.ipynb\" target=\"_parent\"><img src=\"https://colab.research.google.com/assets/colab-badge.svg\" alt=\"Open In Colab\"/></a>"
      ]
    },
    {
      "cell_type": "markdown",
      "source": [
        "1. Define a simple Car class with attributes for make, model, and year. Create an object of this class and print its attributes.\n",
        "\n"
      ],
      "metadata": {
        "id": "NkAp9K9F5QaA"
      }
    },
    {
      "cell_type": "code",
      "source": [
        "class Car:\n",
        "    def __init__(self, make, model, year):\n",
        "        self.make = make\n",
        "        self.model = model\n",
        "        self.year = year\n",
        "A1 = Car(\"JANUARY\", 2024, 2023 )\n",
        "print(A1.make)\n",
        "print(A1.model)\n",
        "print(A1.year)\n"
      ],
      "metadata": {
        "colab": {
          "base_uri": "https://localhost:8080/"
        },
        "id": "a0Gfm9yg5UuO",
        "outputId": "cfc20339-e634-472c-9ee4-f176d7bb6047"
      },
      "execution_count": null,
      "outputs": [
        {
          "output_type": "stream",
          "name": "stdout",
          "text": [
            "JANUARY\n",
            "2024\n",
            "2023\n"
          ]
        }
      ]
    },
    {
      "cell_type": "markdown",
      "source": [
        "2. Create a Person class with attributes for name and age. Add a method to print a greeting message. Create an object and call the method.\n"
      ],
      "metadata": {
        "id": "0uoL6Q9R7aTE"
      }
    },
    {
      "cell_type": "code",
      "source": [
        "class Person:\n",
        "    def __init__(self, name, age):\n",
        "        self.name = name\n",
        "        self.age = age\n",
        "\n",
        "    def greet(self):\n",
        "        print(f\"Hello, my name is {self.name} and I am {self.age} years old.\")\n",
        "\n",
        "# Create an object of the Person class\n",
        "person = Person(\"Navdeep singh\", 18)\n",
        "\n",
        "# Call the greet method\n",
        "person.greet()\n",
        "\n"
      ],
      "metadata": {
        "colab": {
          "base_uri": "https://localhost:8080/"
        },
        "id": "WP36mVUT7dkw",
        "outputId": "0e28c50b-6f9e-45c8-baab-b8e1a2fc222c"
      },
      "execution_count": null,
      "outputs": [
        {
          "output_type": "stream",
          "name": "stdout",
          "text": [
            "Hello, my name is Navdeep singh and I am 18 years old.\n"
          ]
        }
      ]
    },
    {
      "cell_type": "markdown",
      "source": [
        "3. Define a Rectangle class with attributes for length and width. Add a method to calculate the area of the rectangle. Create an object and print the area.\n"
      ],
      "metadata": {
        "id": "NS6t6hna-Sft"
      }
    },
    {
      "cell_type": "code",
      "source": [
        "class Rectangle:\n",
        "     def __init__(self, Length, width):\n",
        "        self.Length = Length\n",
        "        self.width = width\n",
        "\n",
        "     def area(self):\n",
        "        return self.Length * self.width\n",
        "\n",
        "rectangle = Rectangle(5, 6)\n",
        "Area = rectangle.area()\n",
        "print(f\"the area of rectangle of =\",Area )\n",
        "\n",
        "\n",
        "\n",
        "\n",
        "\n"
      ],
      "metadata": {
        "colab": {
          "base_uri": "https://localhost:8080/"
        },
        "id": "MnYLagE9-V2w",
        "outputId": "88c250f9-4272-4b8d-fe1b-047621fcac9f"
      },
      "execution_count": null,
      "outputs": [
        {
          "output_type": "stream",
          "name": "stdout",
          "text": [
            "the area of rectangle of = 30\n"
          ]
        }
      ]
    },
    {
      "cell_type": "markdown",
      "source": [
        "4. Create a Student class with attributes for name and grades (a list of numbers). Add a method to calculate the average grade. Create an object and print the average grade.\n"
      ],
      "metadata": {
        "id": "IqSBD9azBmB7"
      }
    },
    {
      "cell_type": "code",
      "source": [
        "class Student:\n",
        "    def __init__(self, name, grades):\n",
        "        self.name = name\n",
        "        self.grades = grades\n",
        "\n",
        "    def average_grade(self):\n",
        "        total = sum(self.grades)\n",
        "        average = total / len(self.grades)\n",
        "        return average\n",
        "student = Student(\"navi\", [4, 5, 6, 8])\n",
        "grade = student.average_grade()\n",
        "print(f\"{student.name} avearge grade is\",grade)\n",
        "\n",
        "\n",
        "\n"
      ],
      "metadata": {
        "colab": {
          "base_uri": "https://localhost:8080/"
        },
        "id": "MyRIup78BqsZ",
        "outputId": "45025d64-d5fa-4eba-cffd-f8c4572b6a6e"
      },
      "execution_count": null,
      "outputs": [
        {
          "output_type": "stream",
          "name": "stdout",
          "text": [
            "navi avearge grade is 5.75\n"
          ]
        }
      ]
    },
    {
      "cell_type": "markdown",
      "source": [
        "5. Define a Book class with attributes for title, author, and pages. Add a method to display the book's details. Create an object and call the method.\n"
      ],
      "metadata": {
        "id": "nB0fCIdYFOgG"
      }
    },
    {
      "cell_type": "code",
      "source": [
        "class Book:\n",
        "    def __init__(self, title, author, pages):\n",
        "        self.title = title\n",
        "        self.author = author\n",
        "        self.pages = pages\n",
        "\n",
        "    def display(self):\n",
        "        print(f\"Book title: {self.title}\")\n",
        "        print(f\"Author: {self.author}\")\n",
        "        print(f\"Pages: {self.pages}\")\n",
        "b1 = Book(\"Revenge of India\",\"Navdeep singh\", 150 )\n",
        "print(b1.title)\n",
        "print(b1.author)\n",
        "print(b1.pages)\n"
      ],
      "metadata": {
        "colab": {
          "base_uri": "https://localhost:8080/"
        },
        "id": "if5KLxoVFPXX",
        "outputId": "90f73f6a-9fd4-4d3e-c3cb-d08e139a16a3"
      },
      "execution_count": null,
      "outputs": [
        {
          "output_type": "stream",
          "name": "stdout",
          "text": [
            "Revenge of India\n",
            "Navdeep singh\n",
            "150\n"
          ]
        }
      ]
    },
    {
      "cell_type": "markdown",
      "source": [
        "6. Create a Dog class with attributes for name and breed. Add a method to make the dog bark (print a bark message). Create an object and call the method.\n"
      ],
      "metadata": {
        "id": "gVBxo0dzHtWX"
      }
    },
    {
      "cell_type": "code",
      "source": [
        "class Dog:\n",
        "    def __init__(self, name, breed):\n",
        "        self.name = name\n",
        "        self.breed = breed\n",
        "\n",
        "    def bark(self):\n",
        "        print(f\"{self.name} is barking.\")\n",
        "\n",
        "\n",
        "dog = Dog(\"jacky\", \"German Shepherd\")\n",
        "dog.bark()"
      ],
      "metadata": {
        "colab": {
          "base_uri": "https://localhost:8080/"
        },
        "id": "nRPDmUH_HuKm",
        "outputId": "e97a4008-0734-4633-81f2-449632292ff3"
      },
      "execution_count": null,
      "outputs": [
        {
          "output_type": "stream",
          "name": "stdout",
          "text": [
            "jacky is barking.\n"
          ]
        }
      ]
    },
    {
      "cell_type": "markdown",
      "source": [
        "7. Define a BankAccount class with attributes for account number and balance. Add methods to deposit and withdraw money. Create an object and test the methods.\n"
      ],
      "metadata": {
        "id": "I61wSpm1IxtH"
      }
    },
    {
      "cell_type": "code",
      "source": [
        "class BankAccount:\n",
        "    def __init__(self, account_number, balance):\n",
        "        self.account_number = account_number\n",
        "        self.balance = balance\n",
        "\n",
        "    def deposit(self, amount):\n",
        "        if amount > 0:\n",
        "            self.balance += amount\n",
        "            print(f\"Deposited ${amount}. New balance is ${self.balance}.\")\n",
        "        else:\n",
        "            print(\"Deposit amount must be positive.\")\n",
        "\n",
        "    def withdraw(self, amount):\n",
        "        if 0 < amount <= self.balance:\n",
        "            self.balance -= amount\n",
        "            print(f\"Withdrew ${amount}. New balance is ${self.balance}.\")\n",
        "        elif amount > self.balance:\n",
        "            print(\"Insufficient funds.\")\n",
        "        else:\n",
        "            print(\"Withdrawal amount must be positive.\")\n",
        "\n",
        "\n",
        "account = BankAccount(\"123456789\", 1000)\n",
        "account.deposit(500)\n",
        "account.withdraw(200)\n",
        "account.withdraw(2000)\n",
        "account.withdraw(-100)\n",
        "account.deposit(-50)\n",
        "\n"
      ],
      "metadata": {
        "colab": {
          "base_uri": "https://localhost:8080/"
        },
        "id": "CQ3pfJiZIywk",
        "outputId": "9c48bf4e-404d-4bb1-c04b-c9b1f886e23e"
      },
      "execution_count": null,
      "outputs": [
        {
          "output_type": "stream",
          "name": "stdout",
          "text": [
            "Deposited $500. New balance is $1500.\n",
            "Withdrew $200. New balance is $1300.\n",
            "Insufficient funds.\n",
            "Withdrawal amount must be positive.\n",
            "Deposit amount must be positive.\n"
          ]
        }
      ]
    },
    {
      "cell_type": "markdown",
      "source": [
        "8. Create a Circle class with attributes for radius. Add a method to calculate the circumference. Create an object and print the circumference.\n",
        "\n"
      ],
      "metadata": {
        "id": "7YGfEcLRKXmp"
      }
    },
    {
      "cell_type": "code",
      "source": [
        "class Circle:\n",
        "     def __init__(self,radius):\n",
        "        self.radius = radius\n",
        "     def calculate_circumference(self):\n",
        "        return 2 * 3.14 * self.radius\n",
        "c1= Circle(45)\n",
        "circumference = c1.calculate_circumference()\n",
        "print(f\"the circumference of circle is =\",circumference)"
      ],
      "metadata": {
        "colab": {
          "base_uri": "https://localhost:8080/"
        },
        "id": "R6eLrkPgICwD",
        "outputId": "0073bfc7-c279-4899-9d94-3189b2c77800"
      },
      "execution_count": 8,
      "outputs": [
        {
          "output_type": "stream",
          "name": "stdout",
          "text": [
            "the circumference of circle is = 282.6\n"
          ]
        }
      ]
    },
    {
      "cell_type": "markdown",
      "source": [
        "9. Define a Laptop class with attributes for brand and price. Add a method to apply a discount to the price. Create an object and test the method.\n",
        "\n"
      ],
      "metadata": {
        "id": "Tyq2Oos1KL_f"
      }
    },
    {
      "cell_type": "code",
      "source": [
        "class  Laptop:\n",
        "    def __init__(self,brand,price):\n",
        "        self.brand = brand\n",
        "        self.price = price\n",
        "\n",
        "    def apply_discount(self, discount_percentage):\n",
        "        discount_amount = self.price * discount_percentage / 100\n",
        "        self.price -= discount_amount\n",
        "        return self.price\n",
        "laptop = Laptop(\"hp\",45000)\n",
        "print(f\"Original price: ${laptop.price}\")\n",
        "laptop.apply_discount(20)\n",
        "print(f\"Price after 20% discount: ${laptop.price}\")"
      ],
      "metadata": {
        "id": "KGmyIIW4KfqS",
        "colab": {
          "base_uri": "https://localhost:8080/"
        },
        "outputId": "4bea6ac1-1e71-4c3c-9a85-df06d79cd693"
      },
      "execution_count": 12,
      "outputs": [
        {
          "output_type": "stream",
          "name": "stdout",
          "text": [
            "Original price: $45000\n",
            "Price after 20% discount: $36000.0\n"
          ]
        }
      ]
    },
    {
      "cell_type": "markdown",
      "source": [
        "10. Create a Employee class with attributes for name and salary. Add a method to give a raise (increase the salary). Create an object and test the method.\n",
        "\n"
      ],
      "metadata": {
        "id": "VGC2uoJiMjJD"
      }
    },
    {
      "cell_type": "code",
      "source": [
        "class Employee:\n",
        "    def __init__(self, name, salary):\n",
        "        self.name = name\n",
        "        self.salary = salary\n",
        "    def give_raise(self, raise_amount):\n",
        "        self.salary += raise_amount\n",
        "        return self.salary\n",
        "employee = Employee(\"Navdeep singh\", 50000)\n",
        "print(f\"Original salary: ${employee.salary}\")\n",
        "employee.give_raise(10000)"
      ],
      "metadata": {
        "colab": {
          "base_uri": "https://localhost:8080/"
        },
        "id": "hTzG6notMkIW",
        "outputId": "f4c41b5f-83a5-4431-bb5a-8184d851b138"
      },
      "execution_count": 13,
      "outputs": [
        {
          "output_type": "stream",
          "name": "stdout",
          "text": [
            "Original salary: $50000\n"
          ]
        },
        {
          "output_type": "execute_result",
          "data": {
            "text/plain": [
              "60000"
            ]
          },
          "metadata": {},
          "execution_count": 13
        }
      ]
    },
    {
      "cell_type": "markdown",
      "source": [],
      "metadata": {
        "id": "ip64qzZ2HoH8"
      }
    },
    {
      "cell_type": "markdown",
      "source": [
        "\n",
        "11. Define a Point class with attributes for x and y coordinates. Add a method to calculate the distance from another point. Create two objects and print the distance between them.\n"
      ],
      "metadata": {
        "id": "uScbcmojNLuy"
      }
    },
    {
      "cell_type": "code",
      "source": [
        "import math\n",
        "\n",
        "class Point:\n",
        "    def __init__(self, x, y):\n",
        "        self.x = x\n",
        "        self.y = y\n",
        "\n",
        "    def distance_from(self, other_point):\n",
        "        distance = math.sqrt((self.x - other_point.x) ** 2 + (self.y - other_point.y) ** 2)\n",
        "        return distance\n",
        "point1 = Point(1, 2)\n",
        "point2 = Point(4, 6)\n",
        "distance = point1.distance_from(point2)\n",
        "print(f\"Distance between point1 and point2: {distance}\")\n"
      ],
      "metadata": {
        "colab": {
          "base_uri": "https://localhost:8080/"
        },
        "id": "-1i5YOkANMbs",
        "outputId": "a4abdbed-d3c9-4ef8-eccd-d9e33372ad0b"
      },
      "execution_count": 14,
      "outputs": [
        {
          "output_type": "stream",
          "name": "stdout",
          "text": [
            "Distance between point1 and point2: 5.0\n"
          ]
        }
      ]
    }
  ]
}