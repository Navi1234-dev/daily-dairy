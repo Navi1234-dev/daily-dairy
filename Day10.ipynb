{
  "nbformat": 4,
  "nbformat_minor": 0,
  "metadata": {
    "colab": {
      "provenance": [],
      "include_colab_link": true
    },
    "kernelspec": {
      "name": "python3",
      "display_name": "Python 3"
    },
    "language_info": {
      "name": "python"
    }
  },
  "cells": [
    {
      "cell_type": "markdown",
      "metadata": {
        "id": "view-in-github",
        "colab_type": "text"
      },
      "source": [
        "<a href=\"https://colab.research.google.com/github/Navi1234-dev/daily-dairy/blob/main/Day10.ipynb\" target=\"_parent\"><img src=\"https://colab.research.google.com/assets/colab-badge.svg\" alt=\"Open In Colab\"/></a>"
      ]
    },
    {
      "cell_type": "markdown",
      "source": [
        "# **Introduction to Exception Handling**\n",
        "\n",
        "\n",
        "Exception handling in Python is a mechanism to respond to runtime errors, preventing the program from crashing and allowing the program to handle errors gracefully. It helps in debugging, maintaining clean code, and providing user-friendly error messages.\n",
        "\n",
        "**Key Concepts**\n",
        "\n",
        "**1. Exception:** An exception is an error that occurs during the execution of a program. When an exception is raised, the normal flow of the program is interrupted.\n",
        "\n",
        "**2. Try Block**: The code that might raise an exception is placed inside a try block.\n",
        "\n",
        "**3. Except Block**: The code that handles the exception is placed inside an except block.\n",
        "\n",
        "**4. Else Block:** The code inside the else block is executed if no exceptions are raised.\n",
        "\n",
        "**5. Finally Block:** The code inside the finally block is executed regardless of whether an exception is raised or not.\n",
        "\n",
        "**6. Raise:**  Used to raise an exception manually.\n",
        "\n",
        "\n"
      ],
      "metadata": {
        "id": "SlLrgf8DvuN7"
      }
    },
    {
      "cell_type": "markdown",
      "source": [
        "**Common Built-in Exceptions**\n",
        "\n",
        "1. IndexError\n",
        "2. KeyError\n",
        "3. ValueError\n",
        "4. TypeError\n",
        "5. ZeroDivisionError\n",
        "6. FileNotFoundError\n",
        "7. IOError\n",
        "8. ImportError\n",
        "9. AttributeError\n",
        "10. RuntimeError"
      ],
      "metadata": {
        "id": "6OhGLaJgwgft"
      }
    },
    {
      "cell_type": "markdown",
      "source": [
        "Example 1: Handling Division by Zero"
      ],
      "metadata": {
        "id": "EJa5dwlzw5Xk"
      }
    },
    {
      "cell_type": "code",
      "execution_count": null,
      "metadata": {
        "id": "MvXOFDrnJ1__",
        "colab": {
          "base_uri": "https://localhost:8080/"
        },
        "outputId": "621a6773-b4cf-477d-f559-67fa5de06cd9"
      },
      "outputs": [
        {
          "output_type": "stream",
          "name": "stdout",
          "text": [
            "Execution of divide function complete.\n",
            "5.0\n",
            "Execution of divide function complete.\n",
            "Cannot divide by zero!\n"
          ]
        }
      ],
      "source": [
        "def divide(a, b):\n",
        "    try:\n",
        "        result = a / b\n",
        "    except ZeroDivisionError:\n",
        "        return \"Cannot divide by zero!\"\n",
        "    else:\n",
        "        return result\n",
        "    finally:\n",
        "        print(\"Execution of divide function complete.\")\n",
        "\n",
        "print(divide(10, 2))  # Output: 5.0\n",
        "print(divide(10, 0))  # Output: Cannot divide by zero!\n"
      ]
    },
    {
      "cell_type": "code",
      "source": [
        "print(10/0)"
      ],
      "metadata": {
        "colab": {
          "base_uri": "https://localhost:8080/",
          "height": 141
        },
        "id": "HV3uX8aQXHwQ",
        "outputId": "43b3e535-ef22-4daf-8470-2f872dab6b10"
      },
      "execution_count": null,
      "outputs": [
        {
          "output_type": "error",
          "ename": "ZeroDivisionError",
          "evalue": "division by zero",
          "traceback": [
            "\u001b[0;31m---------------------------------------------------------------------------\u001b[0m",
            "\u001b[0;31mZeroDivisionError\u001b[0m                         Traceback (most recent call last)",
            "\u001b[0;32m<ipython-input-4-fe01563e1bc6>\u001b[0m in \u001b[0;36m<cell line: 1>\u001b[0;34m()\u001b[0m\n\u001b[0;32m----> 1\u001b[0;31m \u001b[0mprint\u001b[0m\u001b[0;34m(\u001b[0m\u001b[0;36m10\u001b[0m\u001b[0;34m/\u001b[0m\u001b[0;36m0\u001b[0m\u001b[0;34m)\u001b[0m\u001b[0;34m\u001b[0m\u001b[0;34m\u001b[0m\u001b[0m\n\u001b[0m",
            "\u001b[0;31mZeroDivisionError\u001b[0m: division by zero"
          ]
        }
      ]
    },
    {
      "cell_type": "markdown",
      "source": [
        "Example 2: Handling File Operations"
      ],
      "metadata": {
        "id": "gp5N63d6xEFw"
      }
    },
    {
      "cell_type": "code",
      "source": [
        "def read_file(file_path):\n",
        "    try:\n",
        "        with open(file_path, 'r') as file:\n",
        "            data = file.read()\n",
        "    except FileNotFoundError:\n",
        "        return \"File not found!\"\n",
        "    except IOError:\n",
        "        return \"Error reading file!\"\n",
        "    else:\n",
        "        return data\n",
        "    finally:\n",
        "        print(\"Execution of read_file function complete.\")\n",
        "\n",
        "print(read_file(\"existing_file.txt\"))  # Output: (contents of the file)\n",
        "print(read_file(\"nonexistent_file.txt\"))  # Output: File not found!\n"
      ],
      "metadata": {
        "colab": {
          "base_uri": "https://localhost:8080/"
        },
        "id": "nc6Jgnlcw88m",
        "outputId": "46348577-051d-4f9c-b323-712b54e508cf"
      },
      "execution_count": null,
      "outputs": [
        {
          "output_type": "stream",
          "name": "stdout",
          "text": [
            "Execution of read_file function complete.\n",
            "File not found!\n",
            "Execution of read_file function complete.\n",
            "File not found!\n"
          ]
        }
      ]
    },
    {
      "cell_type": "markdown",
      "source": [
        "Example 3: Handling Multiple Exceptions"
      ],
      "metadata": {
        "id": "bn_cuNMYxKXx"
      }
    },
    {
      "cell_type": "code",
      "source": [
        "def process_input(value):\n",
        "    try:\n",
        "        result = int(value)\n",
        "    except ValueError:\n",
        "        return \"Invalid input! Please enter a number.\"\n",
        "    except TypeError:\n",
        "        return \"Invalid type! Please enter a valid input.\"\n",
        "    else:\n",
        "        return f\"Valid input: {result}\"\n",
        "    finally:\n",
        "        print(\"Execution of process_input function complete.\")\n",
        "\n",
        "print(process_input(\"10\"))  # Output: Valid input: 10\n",
        "print(process_input(\"abc\"))  # Output: Invalid input! Please enter a number.\n",
        "print(process_input(None))   # Output: Invalid type! Please enter a valid input.\n"
      ],
      "metadata": {
        "colab": {
          "base_uri": "https://localhost:8080/"
        },
        "id": "Tr8y6sY9xHCr",
        "outputId": "7d267811-d517-483e-e245-d2e23f346b8f"
      },
      "execution_count": null,
      "outputs": [
        {
          "output_type": "stream",
          "name": "stdout",
          "text": [
            "Execution of process_input function complete.\n",
            "Valid input: 10\n",
            "Execution of process_input function complete.\n",
            "Invalid input! Please enter a number.\n",
            "Execution of process_input function complete.\n",
            "Invalid type! Please enter a valid input.\n"
          ]
        }
      ]
    },
    {
      "cell_type": "markdown",
      "source": [
        "Example 4: Custom Exception"
      ],
      "metadata": {
        "id": "x0CIbOvcxbpq"
      }
    },
    {
      "cell_type": "code",
      "source": [
        "class NegativeValueError(Exception):\n",
        "    def __init__(self, value):\n",
        "        self.value = value\n",
        "        self.message = f\"Negative value error: {value}\"\n",
        "        super().__init__(self.message)\n",
        "\n",
        "def check_positive(value):\n",
        "    try:\n",
        "        if value < 0:\n",
        "            raise NegativeValueError(value)\n",
        "        return \"Value is positive.\"\n",
        "    except NegativeValueError as e:\n",
        "        return str(e)\n",
        "    finally:\n",
        "        print(\"Execution of check_positive function complete.\")\n",
        "\n",
        "print(check_positive(10))   # Output: Value is positive.\n",
        "print(check_positive(-5))   # Output: Negative value error: -5\n"
      ],
      "metadata": {
        "colab": {
          "base_uri": "https://localhost:8080/"
        },
        "id": "1P4pT4xPxV8k",
        "outputId": "05b61431-fbea-473a-97ee-a3c3f3145493"
      },
      "execution_count": null,
      "outputs": [
        {
          "output_type": "stream",
          "name": "stdout",
          "text": [
            "Execution of check_positive function complete.\n",
            "Value is positive.\n",
            "Execution of check_positive function complete.\n",
            "Negative value error: -5\n"
          ]
        }
      ]
    },
    {
      "cell_type": "markdown",
      "source": [
        "**Best Practices for Exception Handling**\n",
        "\n",
        "**Catch Specific Exceptions:** Always catch specific exceptions instead of a generic Exception to handle errors more precisely.\n",
        "\n",
        "**Use Finally Block:** Ensure that necessary cleanup (e.g., closing files or releasing resources) is performed by using the finally block.\n",
        "\n",
        "**Avoid Silent Failures:** Do not use empty except blocks; always provide some logging or error message.\n",
        "\n",
        "**Log Exceptions:** Use logging to record exceptions for future debugging and monitoring.\n",
        "\n",
        "**Use Custom Exceptions:** Define custom exceptions for specific error conditions in your application to provide more meaningful error handling."
      ],
      "metadata": {
        "id": "LPtoFhThxifH"
      }
    },
    {
      "cell_type": "markdown",
      "source": [
        "1. IndexError\n",
        "\n",
        "Scenario: Accessing an invalid index in a list."
      ],
      "metadata": {
        "id": "iEDERQC2x7PI"
      }
    },
    {
      "cell_type": "code",
      "source": [
        "def get_list_element(lst, index):\n",
        "    try:\n",
        "        return lst[index]\n",
        "    except IndexError as e:\n",
        "        return f\"IndexError: {e}\"\n",
        "\n",
        "my_list = [1, 2, 3]\n",
        "print(get_list_element(my_list, 2))  # Output: 3\n",
        "print(get_list_element(my_list, 5))  # Output: IndexError: list index out of range\n"
      ],
      "metadata": {
        "colab": {
          "base_uri": "https://localhost:8080/"
        },
        "id": "5oWExSIpxNGB",
        "outputId": "e980d9cb-c309-42bc-e72f-7843404b56a4"
      },
      "execution_count": null,
      "outputs": [
        {
          "output_type": "stream",
          "name": "stdout",
          "text": [
            "3\n",
            "IndexError: list index out of range\n"
          ]
        }
      ]
    },
    {
      "cell_type": "markdown",
      "source": [
        "2. KeyError\n",
        "\n",
        "Scenario: Accessing a non-existent key in a dictionary."
      ],
      "metadata": {
        "id": "ThtF03BHyC1W"
      }
    },
    {
      "cell_type": "code",
      "source": [
        "def get_dict_value(d, key):\n",
        "    try:\n",
        "        return d[key]\n",
        "    except KeyError as e:\n",
        "        return f\"KeyError: {e}\"\n",
        "\n",
        "my_dict = {'a': 1, 'b': 2}\n",
        "print(get_dict_value(my_dict, 'a'))  # Output: 1\n",
        "print(get_dict_value(my_dict, 'c'))  # Output: KeyError: 'c'\n"
      ],
      "metadata": {
        "colab": {
          "base_uri": "https://localhost:8080/"
        },
        "id": "H-3WYnEbx_Rw",
        "outputId": "de4eeb30-6696-436a-80c2-31c0ae9666b9"
      },
      "execution_count": null,
      "outputs": [
        {
          "output_type": "stream",
          "name": "stdout",
          "text": [
            "1\n",
            "KeyError: 'c'\n"
          ]
        }
      ]
    },
    {
      "cell_type": "markdown",
      "source": [
        "3. ValueError\n",
        "Scenario: Converting an invalid string to an integer."
      ],
      "metadata": {
        "id": "Bup06pF3yJ7w"
      }
    },
    {
      "cell_type": "code",
      "source": [
        "def convert_to_int(value):\n",
        "    try:\n",
        "        return int(value)\n",
        "    except ValueError as e:\n",
        "        return f\"ValueError: {e}\"\n",
        "\n",
        "print(convert_to_int(\"123\"))  # Output: 123\n",
        "print(convert_to_int(\"abc\"))  # Output: ValueError: invalid literal for int() with base 10: 'abc'\n"
      ],
      "metadata": {
        "colab": {
          "base_uri": "https://localhost:8080/"
        },
        "id": "IWn4V9vzyHWY",
        "outputId": "c7f681f1-7e81-49aa-9e65-656a3823e93f"
      },
      "execution_count": null,
      "outputs": [
        {
          "output_type": "stream",
          "name": "stdout",
          "text": [
            "123\n",
            "ValueError: invalid literal for int() with base 10: 'abc'\n"
          ]
        }
      ]
    },
    {
      "cell_type": "markdown",
      "source": [
        "4. TypeError\n",
        "Scenario: Performing an invalid operation on incompatible types."
      ],
      "metadata": {
        "id": "FUI02sx_mY1A"
      }
    },
    {
      "cell_type": "code",
      "source": [
        "def add_numbers(a, b):\n",
        "    try:\n",
        "        return a + b\n",
        "    except TypeError as e:\n",
        "        return f\"TypeError: {e}\"\n",
        "\n",
        "print(add_numbers(10, 5))\n",
        "print(add_numbers(10, \"five\"))"
      ],
      "metadata": {
        "id": "du1q8eXx4fSh",
        "colab": {
          "base_uri": "https://localhost:8080/"
        },
        "outputId": "2308acff-35e3-4b48-a33a-ebfb728f1de0"
      },
      "execution_count": null,
      "outputs": [
        {
          "output_type": "stream",
          "name": "stdout",
          "text": [
            "15\n",
            "TypeError: unsupported operand type(s) for +: 'int' and 'str'\n"
          ]
        }
      ]
    },
    {
      "cell_type": "markdown",
      "source": [
        "5. ZeroDivisionError\n",
        "Scenario: Dividing a number by zero."
      ],
      "metadata": {
        "id": "a60BY3fAmhLs"
      }
    },
    {
      "cell_type": "code",
      "source": [
        "def divide(a, b):\n",
        "    try:\n",
        "        return a / b\n",
        "    except ZeroDivisionError as e:\n",
        "        return f\"ZeroDivisionError: {e}\"\n",
        "\n",
        "print(divide(10, 2))\n",
        "print(divide(10, 0))\n"
      ],
      "metadata": {
        "id": "o5XqpcxJmiZz"
      },
      "execution_count": null,
      "outputs": []
    },
    {
      "cell_type": "markdown",
      "source": [
        "6. FileNotFoundError Scenario: Trying to open a non-existent file."
      ],
      "metadata": {
        "id": "BwhINYDhmozf"
      }
    },
    {
      "cell_type": "code",
      "source": [
        "def read_file(file_path):\n",
        "    try:\n",
        "        with open(file_path, 'r') as file:\n",
        "            return file.read()\n",
        "    except FileNotFoundError as e:\n",
        "        return f\"FileNotFoundError: {e}\"\n",
        "\n",
        "print(read_file(\"existing_file.txt\"))\n",
        "print(read_file(\"nonexistent_file.txt\"))\n"
      ],
      "metadata": {
        "id": "Y1A6tL0lmtp8"
      },
      "execution_count": null,
      "outputs": []
    },
    {
      "cell_type": "markdown",
      "source": [
        "7. IOError\n",
        "Scenario: Error occurs during input/output operation."
      ],
      "metadata": {
        "id": "XXzk5rqSm1LN"
      }
    },
    {
      "cell_type": "code",
      "source": [
        "def write_file(file_path, content):\n",
        "    try:\n",
        "        with open(file_path, 'w') as file:\n",
        "            file.write(content)\n",
        "    except IOError as e:\n",
        "        return f\"IOError: {e}\"\n",
        "\n",
        "print(write_file(\"/path/to/readonly_file.txt\", \"Some content\"))\n"
      ],
      "metadata": {
        "id": "ZKp2y-Ovm2Ou",
        "colab": {
          "base_uri": "https://localhost:8080/"
        },
        "outputId": "2b6d7683-c002-462a-ed53-3d97990bdce1"
      },
      "execution_count": null,
      "outputs": [
        {
          "output_type": "stream",
          "name": "stdout",
          "text": [
            "IOError: [Errno 2] No such file or directory: '/path/to/readonly_file.txt'\n"
          ]
        }
      ]
    },
    {
      "cell_type": "markdown",
      "source": [
        "8. ImportError\n",
        "Scenario: Importing a non-existent module."
      ],
      "metadata": {
        "id": "IXEdGh0mm9Yy"
      }
    },
    {
      "cell_type": "code",
      "source": [
        "try:\n",
        "    import non_existent_module\n",
        "except ImportError as e:\n",
        "    print(f\"ImportError: {e}\")\n"
      ],
      "metadata": {
        "id": "GMXwgoRmm-RF",
        "colab": {
          "base_uri": "https://localhost:8080/"
        },
        "outputId": "018994da-ff97-47c0-d844-1e6c930e045b"
      },
      "execution_count": null,
      "outputs": [
        {
          "output_type": "stream",
          "name": "stdout",
          "text": [
            "ImportError: No module named 'non_existent_module'\n"
          ]
        }
      ]
    },
    {
      "cell_type": "markdown",
      "source": [
        "9. AttributeError\n",
        "Scenario: Accessing an invalid attribute of an object."
      ],
      "metadata": {
        "id": "ruoRyYdwnGD0"
      }
    },
    {
      "cell_type": "code",
      "source": [
        "class MyClass:\n",
        "    def __init__(self, value):\n",
        "        self.value = value\n",
        "\n",
        "obj = MyClass(10)\n",
        "try:\n",
        "    print(obj.non_existent_attribute)\n",
        "except AttributeError as e:\n",
        "    print(f\"AttributeError: {e}\")\n"
      ],
      "metadata": {
        "id": "IvL1bk5fnG-_",
        "colab": {
          "base_uri": "https://localhost:8080/"
        },
        "outputId": "405deab0-419a-4ed8-a4f5-1b725173dc3d"
      },
      "execution_count": null,
      "outputs": [
        {
          "output_type": "stream",
          "name": "stdout",
          "text": [
            "AttributeError: 'MyClass' object has no attribute 'non_existent_attribute'\n"
          ]
        }
      ]
    },
    {
      "cell_type": "markdown",
      "source": [
        "10. RuntimeError\n",
        "Scenario: General runtime error not covered by other categories."
      ],
      "metadata": {
        "id": "AV-G37t4nKqb"
      }
    },
    {
      "cell_type": "code",
      "source": [
        "def raise_runtime_error():\n",
        "    try:\n",
        "        raise RuntimeError(\"This is a runtime error\")\n",
        "    except RuntimeError as e:\n",
        "        return f\"RuntimeError: {e}\"\n",
        "\n",
        "print(raise_runtime_error())\n"
      ],
      "metadata": {
        "id": "hC_uxw5QnR69",
        "colab": {
          "base_uri": "https://localhost:8080/"
        },
        "outputId": "daa04b33-6051-40e2-81d9-bd8c2e2af3a3"
      },
      "execution_count": null,
      "outputs": [
        {
          "output_type": "stream",
          "name": "stdout",
          "text": [
            "RuntimeError: This is a runtime error\n"
          ]
        }
      ]
    }
  ]
}