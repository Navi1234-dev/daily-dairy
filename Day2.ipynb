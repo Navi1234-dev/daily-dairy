{
  "nbformat": 4,
  "nbformat_minor": 0,
  "metadata": {
    "colab": {
      "provenance": [],
      "authorship_tag": "ABX9TyM6e+lFAngifdGvrYjYHyZG",
      "include_colab_link": true
    },
    "kernelspec": {
      "name": "python3",
      "display_name": "Python 3"
    },
    "language_info": {
      "name": "python"
    }
  },
  "cells": [
    {
      "cell_type": "markdown",
      "metadata": {
        "id": "view-in-github",
        "colab_type": "text"
      },
      "source": [
        "<a href=\"https://colab.research.google.com/github/Navi1234-dev/daily-dairy/blob/main/Day2.ipynb\" target=\"_parent\"><img src=\"https://colab.research.google.com/assets/colab-badge.svg\" alt=\"Open In Colab\"/></a>"
      ]
    },
    {
      "cell_type": "code",
      "execution_count": null,
      "metadata": {
        "id": "MW6N98KFyS0P"
      },
      "outputs": [],
      "source": []
    },
    {
      "cell_type": "markdown",
      "source": [
        "PYHTON DATATYPES\n"
      ],
      "metadata": {
        "id": "fPuyfy3vysSS"
      }
    },
    {
      "cell_type": "code",
      "source": [
        "#Lists, Tuples , Sets , Dictionary\n",
        "list1 = [\"apple\",12,23]\n",
        "print(list1)"
      ],
      "metadata": {
        "id": "-A7p9fWNyv5n",
        "colab": {
          "base_uri": "https://localhost:8080/"
        },
        "outputId": "f7aecb8d-b667-47f1-9d73-64d73a0a8b34"
      },
      "execution_count": null,
      "outputs": [
        {
          "output_type": "stream",
          "name": "stdout",
          "text": [
            "['apple', 12, 23]\n"
          ]
        }
      ]
    },
    {
      "cell_type": "markdown",
      "source": [
        "colors = ['red', 'blue', 'green', 'yellow']\n",
        "\n",
        "Using the colors list defined above, print the:\n",
        "\n",
        "First element, Second element, Last element, Second-to-last element, Second and third elements, Element at index 4."
      ],
      "metadata": {
        "id": "rjt5-Zv_6fHx"
      }
    },
    {
      "cell_type": "code",
      "source": [
        "colors = ['red', 'blue', 'green', 'yellow']\n",
        "print(colors[0])\n",
        "print(colors[1])\n",
        "print(colors[3])\n",
        "print(colors[2])\n",
        "print(colors[1:2])\n",
        "print(colors[4])\n",
        "\n"
      ],
      "metadata": {
        "colab": {
          "base_uri": "https://localhost:8080/",
          "height": 280
        },
        "id": "5HPSOzHF6g-M",
        "outputId": "6dc8225b-9f5f-405e-a607-c97c39b8f53d"
      },
      "execution_count": null,
      "outputs": [
        {
          "output_type": "stream",
          "name": "stdout",
          "text": [
            "red\n",
            "blue\n",
            "yellow\n",
            "green\n",
            "['blue']\n"
          ]
        },
        {
          "output_type": "error",
          "ename": "IndexError",
          "evalue": "list index out of range",
          "traceback": [
            "\u001b[0;31m---------------------------------------------------------------------------\u001b[0m",
            "\u001b[0;31mIndexError\u001b[0m                                Traceback (most recent call last)",
            "\u001b[0;32m<ipython-input-5-8c431fb9a156>\u001b[0m in \u001b[0;36m<cell line: 7>\u001b[0;34m()\u001b[0m\n\u001b[1;32m      5\u001b[0m \u001b[0mprint\u001b[0m\u001b[0;34m(\u001b[0m\u001b[0mcolors\u001b[0m\u001b[0;34m[\u001b[0m\u001b[0;36m2\u001b[0m\u001b[0;34m]\u001b[0m\u001b[0;34m)\u001b[0m\u001b[0;34m\u001b[0m\u001b[0;34m\u001b[0m\u001b[0m\n\u001b[1;32m      6\u001b[0m \u001b[0mprint\u001b[0m\u001b[0;34m(\u001b[0m\u001b[0mcolors\u001b[0m\u001b[0;34m[\u001b[0m\u001b[0;36m1\u001b[0m\u001b[0;34m:\u001b[0m\u001b[0;36m2\u001b[0m\u001b[0;34m]\u001b[0m\u001b[0;34m)\u001b[0m\u001b[0;34m\u001b[0m\u001b[0;34m\u001b[0m\u001b[0m\n\u001b[0;32m----> 7\u001b[0;31m \u001b[0mprint\u001b[0m\u001b[0;34m(\u001b[0m\u001b[0mcolors\u001b[0m\u001b[0;34m[\u001b[0m\u001b[0;36m4\u001b[0m\u001b[0;34m]\u001b[0m\u001b[0;34m)\u001b[0m\u001b[0;34m\u001b[0m\u001b[0;34m\u001b[0m\u001b[0m\n\u001b[0m\u001b[1;32m      8\u001b[0m \u001b[0;34m\u001b[0m\u001b[0m\n",
            "\u001b[0;31mIndexError\u001b[0m: list index out of range"
          ]
        }
      ]
    },
    {
      "cell_type": "markdown",
      "source": [
        "Below is a list with seven integer values representing the daily water level (in cm) in an imaginary lake. However, there is a mistake in the data. The third day’s water level should be 693. Correct the mistake and print the changed list.\n",
        "\n",
        "water_level = [730, 709, 682, 712, 733, 751, 740]"
      ],
      "metadata": {
        "id": "9GotnRat8okO"
      }
    },
    {
      "cell_type": "code",
      "source": [
        "water_level = [730, 709, 682, 712, 733, 751, 740]\n",
        "water_level[2] = 693\n",
        "print(water_level)"
      ],
      "metadata": {
        "colab": {
          "base_uri": "https://localhost:8080/"
        },
        "id": "Ksle-uBb83c1",
        "outputId": "3b6f37bf-0745-47ae-ed78-6b2a2df7b42d"
      },
      "execution_count": null,
      "outputs": [
        {
          "output_type": "stream",
          "name": "stdout",
          "text": [
            "[730, 709, 693, 712, 733, 751, 740]\n"
          ]
        }
      ]
    },
    {
      "cell_type": "markdown",
      "source": [
        "Add the data for the eighth day to the list from above. The water level was 772 cm on that day. Print the list contents afterwards."
      ],
      "metadata": {
        "id": "IHTkqFah9ZPA"
      }
    },
    {
      "cell_type": "code",
      "source": [
        "water_level.append(772)\n",
        "print(water_level)"
      ],
      "metadata": {
        "colab": {
          "base_uri": "https://localhost:8080/"
        },
        "id": "GXNH6xvQ9aIx",
        "outputId": "d6c695cd-543a-48e7-c84a-1b9807d5feac"
      },
      "execution_count": null,
      "outputs": [
        {
          "output_type": "stream",
          "name": "stdout",
          "text": [
            "[730, 709, 693, 712, 733, 751, 740, 772]\n"
          ]
        }
      ]
    },
    {
      "cell_type": "markdown",
      "source": [],
      "metadata": {
        "id": "WFMQNzRN9ZHj"
      }
    },
    {
      "cell_type": "markdown",
      "source": [
        " Still using the same list, add three consecutive days using a single instruction. The water levels on the 9th through 11th days were 772 cm, 770 cm, and 745 cm. Add these values and then print the whole list."
      ],
      "metadata": {
        "id": "taDIW7Nn9yur"
      }
    },
    {
      "cell_type": "code",
      "source": [
        "water_level.extend([772,770,745])\n",
        "print(water_level)"
      ],
      "metadata": {
        "colab": {
          "base_uri": "https://localhost:8080/"
        },
        "id": "pdJReosX9zqD",
        "outputId": "ef01ebb9-30b5-41f5-c9f2-f5ac44b7ccdc"
      },
      "execution_count": null,
      "outputs": [
        {
          "output_type": "stream",
          "name": "stdout",
          "text": [
            "[730, 709, 693, 712, 733, 751, 740, 772, 772, 770, 745]\n"
          ]
        }
      ]
    },
    {
      "cell_type": "markdown",
      "source": [
        "There are two ways to delete data from a list: by using the index or by using the value. Start with the original water_level list we defined in the second exercise and delete the first element using its index. Then define the list again and delete the first element using its value."
      ],
      "metadata": {
        "id": "WWcfvttI-OQW"
      }
    },
    {
      "cell_type": "code",
      "source": [
        "\n",
        "water_level = [730, 709, 682, 712, 733, 751, 740]\n",
        "water_level.pop(0)\n",
        "print(water_level)\n"
      ],
      "metadata": {
        "colab": {
          "base_uri": "https://localhost:8080/"
        },
        "id": "xH2lumcF-PsL",
        "outputId": "8d14e060-f491-4b0b-95e4-769aa853f7b4"
      },
      "execution_count": null,
      "outputs": [
        {
          "output_type": "stream",
          "name": "stdout",
          "text": [
            "[709, 682, 712, 733, 751, 740]\n"
          ]
        }
      ]
    },
    {
      "cell_type": "markdown",
      "source": [
        " 1. Tuple Creation and Access:\n",
        " Create a tuple named\n",
        "colors with the elements 'red', 'green', and 'blue'.\n",
        " Access the second element of the tuple and print it."
      ],
      "metadata": {
        "id": "d657RgEwDdoE"
      }
    },
    {
      "cell_type": "code",
      "source": [
        "colors = ('red', 'green', 'blue')\n",
        "print(colors[1])"
      ],
      "metadata": {
        "colab": {
          "base_uri": "https://localhost:8080/"
        },
        "id": "lwMJm9cvDe4l",
        "outputId": "def69f4f-f6da-48ac-f640-c44cf27ed9da"
      },
      "execution_count": null,
      "outputs": [
        {
          "output_type": "stream",
          "name": "stdout",
          "text": [
            "green\n"
          ]
        }
      ]
    },
    {
      "cell_type": "markdown",
      "source": [
        "2. Immutable Nature:\n",
        " Explain in your own words why tuples are considered immutable.\n",
        " Attempt to modify an element in an existing tuple and observe the resulting error"
      ],
      "metadata": {
        "id": "8V8fnYonDr4z"
      }
    },
    {
      "cell_type": "code",
      "source": [
        "# Tuples are immutable. because if try and modify an element  of the tuple , we get an error\n",
        "colors = ('red', 'green', 'blue')\n",
        "colors[1] = 'yellow'"
      ],
      "metadata": {
        "id": "ms5PoCWgDufu"
      },
      "execution_count": null,
      "outputs": []
    },
    {
      "cell_type": "markdown",
      "source": [
        "3. Tuple Slicing:\n",
        " Given the tuple\n",
        "numbers = (1, 2, 3, 4, 5), use slicing to extract the elements from index 1 to 3 (inclusive).\n",
        " What would be the output of\n",
        "numbers[::-1]?"
      ],
      "metadata": {
        "id": "6bFL51HgET2-"
      }
    },
    {
      "cell_type": "code",
      "source": [
        "numbers = (1,2,3,4,5)\n",
        "print(numbers[1:4])\n",
        "print(numbers[::-1])"
      ],
      "metadata": {
        "colab": {
          "base_uri": "https://localhost:8080/"
        },
        "id": "HEUh_QoFEY9x",
        "outputId": "0c3a47c6-6315-49b4-bb9e-85ff58fbcf65"
      },
      "execution_count": null,
      "outputs": [
        {
          "output_type": "stream",
          "name": "stdout",
          "text": [
            "(2, 3, 4)\n",
            "(5, 4, 3, 2, 1)\n"
          ]
        }
      ]
    },
    {
      "cell_type": "markdown",
      "source": [
        "4. Tuple Concatenation and Repetition:\n",
        " Create two tuples,\n",
        "fruits with elements 'apple', 'banana', and\n",
        "berries with elements 'strawberry', 'blueberry'.\n",
        " Concatenate the two tuples and store the result in a new tuple named\n",
        "Repeat the\n",
        "combined_fruits tuple three times and print the result."
      ],
      "metadata": {
        "id": "LcQmp0FCFfus"
      }
    },
    {
      "cell_type": "code",
      "source": [
        "fruits = ('apple', 'banana', 'strawberry')\n",
        "berries = ('blueberry', 'strawberry')\n",
        "combined_fruits = fruits + berries\n",
        "print(combined_fruits)"
      ],
      "metadata": {
        "colab": {
          "base_uri": "https://localhost:8080/"
        },
        "id": "0UB3dL0fFoVB",
        "outputId": "d30575aa-bf5d-4c00-b788-3322dced4913"
      },
      "execution_count": null,
      "outputs": [
        {
          "output_type": "stream",
          "name": "stdout",
          "text": [
            "('apple', 'banana', 'strawberry', 'blueberry', 'strawberry')\n"
          ]
        }
      ]
    },
    {
      "cell_type": "markdown",
      "source": [
        " 5. Built-in Tuple Methods:\n",
        " Create a tuple named\n",
        "Use the\n",
        "grades with the elements 90, 85, 92, 88, 95.\n",
        "\n",
        " count() method to nd how many times the grade 88 appears in the tuple.\n",
        " Use the\n",
        "index() method to nd the index of the grade 92."
      ],
      "metadata": {
        "id": "uP2mJHCTJpWv"
      }
    },
    {
      "cell_type": "code",
      "source": [
        "grades = (90, 85, 92, 88, 95)\n",
        "print(grades.count(88))\n",
        "print(grades.index(92))"
      ],
      "metadata": {
        "colab": {
          "base_uri": "https://localhost:8080/"
        },
        "id": "knSVpjIhKxx_",
        "outputId": "a2b51c22-c019-4f74-8f94-ad3abf719c5f"
      },
      "execution_count": null,
      "outputs": [
        {
          "output_type": "stream",
          "name": "stdout",
          "text": [
            "1\n",
            "2\n"
          ]
        }
      ]
    },
    {
      "cell_type": "markdown",
      "source": [
        " . Advantages of Tuples:\n",
        " Explain one advantage of using tuples over lists in Python.\n",
        " Describe a scenario where the immutability of tuples could be bene cial in a program"
      ],
      "metadata": {
        "id": "Gh-KmqJWLCFq"
      }
    },
    {
      "cell_type": "markdown",
      "source": [
        "7. Multiple Data Types in a Tuple:\n",
        " Create a tuple named\n",
        "mixed_types with elements 'apple', 42, and 3.14.\n",
        " Access and print the second element of the tuple."
      ],
      "metadata": {
        "id": "U-KTsyFZLloq"
      }
    },
    {
      "cell_type": "code",
      "source": [
        "mixed = ('apple', 42, 3.14)\n",
        "print(mixed[1])"
      ],
      "metadata": {
        "colab": {
          "base_uri": "https://localhost:8080/"
        },
        "id": "AF4MYtPkLnRW",
        "outputId": "558b2cbd-6c96-4d69-f030-8dfbe0243809"
      },
      "execution_count": null,
      "outputs": [
        {
          "output_type": "stream",
          "name": "stdout",
          "text": [
            "42\n"
          ]
        }
      ]
    },
    {
      "cell_type": "markdown",
      "source": [
        ". Conversion:\n",
        " Convert the list\n",
        "['cat', 'dog', 'rabbit'] into a tuple named animals\n",
        "Print the tuple to verify the conversion."
      ],
      "metadata": {
        "id": "phDl5OUEMD71"
      }
    },
    {
      "cell_type": "code",
      "source": [
        "animal = ['cat', 'dog', 'rabbit']\n",
        "animals = tuple(animal)\n",
        "print(animals)"
      ],
      "metadata": {
        "colab": {
          "base_uri": "https://localhost:8080/"
        },
        "id": "adKW-u_4MOE6",
        "outputId": "4237086c-63b9-472f-d58d-49a03f1963a8"
      },
      "execution_count": null,
      "outputs": [
        {
          "output_type": "stream",
          "name": "stdout",
          "text": [
            "('cat', 'dog', 'rabbit')\n"
          ]
        }
      ]
    },
    {
      "cell_type": "markdown",
      "source": [
        "9. Nested Tuples:\n",
        " Create a tuple\n",
        " outer_tuple with two elements: 'apple' and another tuple ('red', 'green', 'yellow').\n",
        " Access the second element of the inner tuple and print it"
      ],
      "metadata": {
        "id": "ZYfWvX4aMuOV"
      }
    },
    {
      "cell_type": "code",
      "source": [
        "outer_tuple = ('apple', ('red', 'green', 'yellow'))\n",
        "print(outer_tuple[1][1])"
      ],
      "metadata": {
        "colab": {
          "base_uri": "https://localhost:8080/"
        },
        "id": "aDUT-O4VM2pK",
        "outputId": "d3901040-3b22-4a69-c36a-f5b37b04f0b9"
      },
      "execution_count": null,
      "outputs": [
        {
          "output_type": "stream",
          "name": "stdout",
          "text": [
            "green\n"
          ]
        }
      ]
    },
    {
      "cell_type": "markdown",
      "source": [
        "1.\n",
        "   - You are managing the inventory for a small bookstore. Create a list of book titles available in the store. Add new titles to the list as they arrive. If a book is sold out, remove it from the list. Write a function to check if a specific book is in stock.\n"
      ],
      "metadata": {
        "id": "uARAWd9wOfn1"
      }
    },
    {
      "cell_type": "markdown",
      "source": [
        "You are managing the inventory for a small bookstore. Create a list of book titles available in the store. Add new titles to the list as they arrive. If a book is sold out, remove it from the list. Write a function to check if a specific book is in stock.\n",
        "\n"
      ],
      "metadata": {
        "id": "CjAqobcD9bzI"
      }
    },
    {
      "cell_type": "code",
      "source": [],
      "metadata": {
        "id": "V9ALFhN09hJ2"
      },
      "execution_count": null,
      "outputs": []
    },
    {
      "cell_type": "code",
      "source": [
        "\\"
      ],
      "metadata": {
        "id": "3eZRaAfNOg73"
      },
      "execution_count": null,
      "outputs": []
    }
  ]
}