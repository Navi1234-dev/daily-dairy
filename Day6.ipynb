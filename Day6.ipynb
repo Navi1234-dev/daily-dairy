{
  "nbformat": 4,
  "nbformat_minor": 0,
  "metadata": {
    "colab": {
      "provenance": [],
      "include_colab_link": true
    },
    "kernelspec": {
      "name": "python3",
      "display_name": "Python 3"
    },
    "language_info": {
      "name": "python"
    }
  },
  "cells": [
    {
      "cell_type": "markdown",
      "metadata": {
        "id": "view-in-github",
        "colab_type": "text"
      },
      "source": [
        "<a href=\"https://colab.research.google.com/github/Navi1234-dev/daily-dairy/blob/main/Day6.ipynb\" target=\"_parent\"><img src=\"https://colab.research.google.com/assets/colab-badge.svg\" alt=\"Open In Colab\"/></a>"
      ]
    },
    {
      "cell_type": "markdown",
      "source": [
        "**FUNCTIONS**\n",
        "\n",
        "**In Python, a function is defined using the def keyword, followed by the function name, parentheses containing any parameters, and a colon. The function body is indented and contains the code to be executed.**\n",
        ".\n",
        "\n",
        "**Types of Functions**\n",
        "\n",
        "**1.Built-in Functions: These are pre-defined functions provided by a programming language or environment. Examples include print(), len() in Python, and printf() in C.**\n",
        "\n",
        "**2.User-defined Functions: These are functions created by the programmer to perform specific tasks. They follow a defined structure with a name, parameters, and a body.**\n",
        "\n",
        "**3.Anonymous Functions (Lambda Functions): These are functions without a name, often used for short, simple operations**\n",
        "\n",
        "**4.Recursive Functions: These functions call themselves within their definition, useful for tasks that can be divided into similar subtasks.**\n",
        "\n"
      ],
      "metadata": {
        "id": "8ZdsFsEf0JYl"
      }
    },
    {
      "cell_type": "code",
      "source": [
        "#define a function\n",
        "#syntax\n",
        "def function_name(paramenters):\n",
        "  #statement\n",
        "  pass\n",
        "\n"
      ],
      "metadata": {
        "id": "AjjW-OFo1b3i"
      },
      "execution_count": null,
      "outputs": []
    },
    {
      "cell_type": "code",
      "source": [
        "def greet():\n",
        "  print(\"welcome\")"
      ],
      "metadata": {
        "id": "oLS0o0Xon080"
      },
      "execution_count": null,
      "outputs": []
    },
    {
      "cell_type": "code",
      "source": [
        "#call a function\n",
        "greet()"
      ],
      "metadata": {
        "id": "HfHNQ0Up3rhY",
        "colab": {
          "base_uri": "https://localhost:8080/"
        },
        "outputId": "2fdab186-bce3-4b9d-b1be-0fd6558b61db"
      },
      "execution_count": null,
      "outputs": [
        {
          "output_type": "stream",
          "name": "stdout",
          "text": [
            "welcome\n"
          ]
        }
      ]
    },
    {
      "cell_type": "code",
      "source": [
        "#Lambda function\n",
        "add=lambda x,y:x+y\n",
        "print(add(2,3))"
      ],
      "metadata": {
        "id": "2J_5TEDb363x"
      },
      "execution_count": null,
      "outputs": []
    },
    {
      "cell_type": "code",
      "source": [
        "#Recursive function\n",
        "def factorial(n):\n",
        "  if n ==1:\n",
        "    return 1\n",
        "  else:\n",
        "    return n*factorial(n-1)"
      ],
      "metadata": {
        "id": "o7CK1PQW4Hz1"
      },
      "execution_count": null,
      "outputs": []
    },
    {
      "cell_type": "markdown",
      "source": [
        "**Arguments in Functions**\n",
        "\n",
        "**Arguments are values passed to a function when it is called. They can be categorized as follows:**\n",
        "\n",
        "**1.Positional Arguments: These are arguments that are passed to a function in a specific order.**\n",
        "\n",
        "**2.Keyword Arguments: These are arguments passed to a function by explicitly naming each parameter and its corresponding value.**\n",
        "\n",
        "**3.Default Arguments: These are arguments that assume a default value if no value is provided during the function call**\n",
        "\n",
        "**4.Variable-length Arguments: *args (Non-keyword arguments): Allows a function to accept any number of positional arguments.**\n",
        "\n",
        "**kwargs (Keyword arguments): Allows a function to accept any number of keyword arguments **bold text**"
      ],
      "metadata": {
        "id": "IlZrqaJg4-Cy"
      }
    },
    {
      "cell_type": "code",
      "source": [
        "#Arbitary keyword\n",
        "def info(**kwargs):\n",
        "  for key,value in kwargs:\n",
        "    print(\"kwargs.iteam()\")"
      ],
      "metadata": {
        "id": "IuCn1OUS9ebU"
      },
      "execution_count": null,
      "outputs": []
    },
    {
      "cell_type": "code",
      "source": [
        "#positinal argument\n",
        "def subtract(a, b):\n",
        "    return a - b\n",
        "\n",
        "#result = add(2, 3)  # 2 and 3 are positional arguments"
      ],
      "metadata": {
        "id": "TP_SWt5B988c"
      },
      "execution_count": null,
      "outputs": []
    },
    {
      "cell_type": "code",
      "source": [
        "result = print(subtract(10, 7))"
      ],
      "metadata": {
        "colab": {
          "base_uri": "https://localhost:8080/"
        },
        "id": "cQfFSYFyoonE",
        "outputId": "e936bf34-4424-4c92-e82c-8f935261bd56"
      },
      "execution_count": null,
      "outputs": [
        {
          "output_type": "stream",
          "name": "stdout",
          "text": [
            "3\n"
          ]
        }
      ]
    },
    {
      "cell_type": "code",
      "source": [
        "result1 = print(subtract(9, 15))"
      ],
      "metadata": {
        "colab": {
          "base_uri": "https://localhost:8080/"
        },
        "id": "PkzDGU15oxUc",
        "outputId": "1d2dd637-a22d-4376-f442-a1119cda8377"
      },
      "execution_count": null,
      "outputs": [
        {
          "output_type": "stream",
          "name": "stdout",
          "text": [
            "-6\n"
          ]
        }
      ]
    },
    {
      "cell_type": "code",
      "source": [
        "def info(age, gender):\n",
        "  print(f\" Hi my age is :{age} years old & my gender is {gender}\")"
      ],
      "metadata": {
        "id": "2ZU3FLH1pFJQ"
      },
      "execution_count": null,
      "outputs": []
    },
    {
      "cell_type": "code",
      "source": [
        "shagun = info(\"14\", \"Female\")"
      ],
      "metadata": {
        "colab": {
          "base_uri": "https://localhost:8080/"
        },
        "id": "7jUCqZkhpa3o",
        "outputId": "26b2f468-94c3-4a9f-cafa-0ba36a5b6f89"
      },
      "execution_count": null,
      "outputs": [
        {
          "output_type": "stream",
          "name": "stdout",
          "text": [
            " Hi my age is :14 years old & my gender is Female\n"
          ]
        }
      ]
    },
    {
      "cell_type": "code",
      "source": [
        "Mohit = info(\"Male\", \"21\")"
      ],
      "metadata": {
        "colab": {
          "base_uri": "https://localhost:8080/"
        },
        "id": "FUwYnqRApjsj",
        "outputId": "271153d5-2a24-40fd-93c1-9e9453a5d934"
      },
      "execution_count": null,
      "outputs": [
        {
          "output_type": "stream",
          "name": "stdout",
          "text": [
            " Hi my age is :Male years old & my gender is 21\n"
          ]
        }
      ]
    },
    {
      "cell_type": "code",
      "source": [
        "#keyword arguments\n",
        "def greet(name, message):\n",
        "    return f\"{message}, {name}!\"\n",
        "\n",
        "#result = greet(name=\"Alice\", message=\"Hello\")  # name and message are keyword arguments"
      ],
      "metadata": {
        "id": "jG94A-Nb_EkB"
      },
      "execution_count": null,
      "outputs": []
    },
    {
      "cell_type": "code",
      "source": [
        "Greeting = print(greet(name = \"Harsimar\", message = \"Hi\"))"
      ],
      "metadata": {
        "colab": {
          "base_uri": "https://localhost:8080/"
        },
        "id": "7N6Z7JF6p7c_",
        "outputId": "389c2851-4c7b-4ecf-8633-f39875943ff0"
      },
      "execution_count": null,
      "outputs": [
        {
          "output_type": "stream",
          "name": "stdout",
          "text": [
            "Hi, Harsimar!\n"
          ]
        }
      ]
    },
    {
      "cell_type": "code",
      "source": [
        "Greeting1 = print(greet(message = \"Hello\", name = \"Divyansh\"))"
      ],
      "metadata": {
        "colab": {
          "base_uri": "https://localhost:8080/"
        },
        "id": "iNUUKmKaqGW5",
        "outputId": "9a98ce7d-303f-4440-a003-027518d8eb78"
      },
      "execution_count": null,
      "outputs": [
        {
          "output_type": "stream",
          "name": "stdout",
          "text": [
            "Hello, Divyansh!\n"
          ]
        }
      ]
    },
    {
      "cell_type": "code",
      "source": [
        "#default arguments\n",
        "def greet(name, message=\"Hello\"):\n",
        "    return f\"{message}, {name}!\"\n",
        "\n",
        "result1 = greet(\"Alice\")          # Uses default message \"Hello\"\n",
        "result2 = greet(\"Bob\", \"Hi\")      # Uses provided message \"Hi\""
      ],
      "metadata": {
        "id": "7wfrB9bq_ZM3"
      },
      "execution_count": null,
      "outputs": []
    },
    {
      "cell_type": "code",
      "source": [
        "Greet = print(greet(\"Mehakpreet\"))"
      ],
      "metadata": {
        "colab": {
          "base_uri": "https://localhost:8080/"
        },
        "id": "x4uwshWMoG_v",
        "outputId": "189e73d6-f07e-4ff0-fd63-02a4791638b2"
      },
      "execution_count": null,
      "outputs": [
        {
          "output_type": "stream",
          "name": "stdout",
          "text": [
            "Hello, Mehakpreet!\n"
          ]
        }
      ]
    },
    {
      "cell_type": "code",
      "source": [
        "#variable length arguments(*args)\n",
        "def sum_all(*a):\n",
        "    return sum(a)\n",
        "\n",
        "#result = sum_all(1, 2, 3, 4)  # Accepts multiple positional arguments\n"
      ],
      "metadata": {
        "id": "Enh0kavV_nJF"
      },
      "execution_count": null,
      "outputs": []
    },
    {
      "cell_type": "code",
      "source": [
        "Summation = print(sum_all(67, 12, 178, 19, 90, 14, 25, 12, 45))"
      ],
      "metadata": {
        "colab": {
          "base_uri": "https://localhost:8080/"
        },
        "id": "Gdfwmsn3q5VE",
        "outputId": "08a0d650-8f1b-4af3-fbee-9dabb05a92f3"
      },
      "execution_count": null,
      "outputs": [
        {
          "output_type": "stream",
          "name": "stdout",
          "text": [
            "462\n"
          ]
        }
      ]
    },
    {
      "cell_type": "code",
      "source": [
        "#**kwargs\n",
        "def print_details(**g):\n",
        "    for key, value in g.items():\n",
        "        print(f\"{key}: {value}\")\n",
        "\n",
        "print_details(name=\"Alice\", age=30, city=\"New York\")\n"
      ],
      "metadata": {
        "id": "S7tmZYlq_5V7",
        "colab": {
          "base_uri": "https://localhost:8080/"
        },
        "outputId": "e672b562-fc13-453d-8586-92fe8cb7e01b"
      },
      "execution_count": null,
      "outputs": [
        {
          "output_type": "stream",
          "name": "stdout",
          "text": [
            "name: Alice\n",
            "age: 30\n",
            "city: New York\n"
          ]
        }
      ]
    },
    {
      "cell_type": "code",
      "source": [
        "print_details(Locality = \"Model Town\", Address = \"SCF, BLOCK-3, Third floor\", H_no.= \"3\", St.no = \"4\")"
      ],
      "metadata": {
        "colab": {
          "base_uri": "https://localhost:8080/",
          "height": 106
        },
        "id": "85RW-HOMrdIq",
        "outputId": "38cd60ce-6f6a-4a04-d49d-5d9b6036d27d"
      },
      "execution_count": null,
      "outputs": [
        {
          "output_type": "error",
          "ename": "SyntaxError",
          "evalue": "positional argument follows keyword argument (<ipython-input-36-1dbe4a7c4040>, line 1)",
          "traceback": [
            "\u001b[0;36m  File \u001b[0;32m\"<ipython-input-36-1dbe4a7c4040>\"\u001b[0;36m, line \u001b[0;32m1\u001b[0m\n\u001b[0;31m    print_details(Locality = \"Model Town\", Address = \"SCF, BLOCK-3, Third floor\", H_no.= \"3\", St.no = \"4\")\u001b[0m\n\u001b[0m                                                                                       ^\u001b[0m\n\u001b[0;31mSyntaxError\u001b[0m\u001b[0;31m:\u001b[0m positional argument follows keyword argument\n"
          ]
        }
      ]
    },
    {
      "cell_type": "markdown",
      "source": [
        "**PRACTICE QUESTIONS ON PYTHON FUNCTIONS:**\n",
        "\n",
        "1.Write a Python function that takes a string as input and returns the reverse of the string.\n",
        "\n",
        "2.Create a list of numbers. Write a function that finds and returns the maximum value in the list without using the built-in max() function.\n",
        "\n",
        "3.Define a function that accepts a list of integers and returns a new list containing only the even numbers from the original list.\n",
        "\n",
        "4.Implement a Python function to check if a given word is a palindrome (reads the same backward as forward).\n",
        "\n",
        "5.Create a dictionary with student names as keys and their corresponding ages as values. Write a function to find and print the names of students who are above a certain age.\n",
        "\n",
        "6.Develop a Python function that calculates the sum of squares for a given range of numbers.\n",
        "\n",
        "7.Write a recursive function that calculates the Fibonacci sequence for a given term.  \n",
        "\n",
        "8.Create a class called Rectangle with methods to calculate the area and perimeter. Initialize the class with the length and width as attributes.\n",
        "\n",
        "9.Implement a function that takes a list of strings and returns a new list with the strings sorted by their lengths in ascending order.\n",
        "\n",
        "10.Use a lambda function to filter a list of integers and return a new list containing only the numbers greater than 10.\n",
        "\n",
        "11.Write a function that takes a list of numbers and returns a new list containing only the unique elements.\n",
        "\n",
        "12.Create a Python function that accepts a string and counts the occurrences of each character. Return the result as a dictionary.\n",
        "\n",
        "13.Implement a function to calculate the average of a list of numbers without using the built-in sum() and len() functions.\n",
        "\n",
        "14.Write a function that checks if a given year is a leap year. A leap year is divisible by 4 but not divisible by 100 unless it is divisible by 400.\n",
        "\n",
        "15.Design a function that takes a list of strings and returns a new list with only the strings that have more than 5 characters.\n",
        "\n",
        "16.Create a function that accepts a sentence and counts the number of vowels (a, e, i, o, u) in it.  \n",
        "\n",
        "17.Write a Python function that takes a number and checks whether it is a prime number.\n",
        "\n",
        "18.Implement a function that reverses the order of words in a given sentence.\n",
        "\n",
        "19.Create a function to find and return the second-largest number in a list of integers.  \n",
        "\n",
        "20.Write a function that takes a string and returns True if it is a palindrome (ignoring spaces and\n",
        "case), and False otherwise.\n",
        "\n",
        "\n",
        "\n",
        "\n"
      ],
      "metadata": {
        "id": "zUDzjuwbA7p4"
      }
    },
    {
      "cell_type": "code",
      "source": [
        "# Secret message string\n",
        "secret_message = \"77722245672yugdegwd.90eddedudj3d.\"\n",
        "\n",
        "# Initialize the index\n",
        "index = 0\n",
        "\n",
        "# Use a while loop to print each character until a period is found\n",
        "while index < len(secret_message):\n",
        "    if secret_message[index] == '.':\n",
        "        break\n",
        "    print(secret_message[index], end='')\n",
        "    index += 1\n",
        "\n",
        "print()  # To move to the next line after the loop ends\n"
      ],
      "metadata": {
        "id": "XUyWtGwWCnmh",
        "colab": {
          "base_uri": "https://localhost:8080/"
        },
        "outputId": "7a544389-c7e4-4fcf-8675-31a9d48d253d"
      },
      "execution_count": null,
      "outputs": [
        {
          "output_type": "stream",
          "name": "stdout",
          "text": [
            "77722245672yugdegwd\n"
          ]
        }
      ]
    },
    {
      "cell_type": "code",
      "source": [
        "#2.Create a list of numbers. Write a function that finds and returns the maximum value in the list without using the built-in max() function\n",
        "string=input(\"enter a name:-\")\n",
        "def rev(string):\n",
        "   k=string\n",
        "   if len(k)>0:\n",
        "     return(k[::-1])\n",
        "print(rev(string))"
      ],
      "metadata": {
        "id": "BXi--JZykgvH",
        "colab": {
          "base_uri": "https://localhost:8080/"
        },
        "outputId": "a6e31511-40f9-4ae7-d267-10b59d7b540d"
      },
      "execution_count": 4,
      "outputs": [
        {
          "output_type": "stream",
          "name": "stdout",
          "text": [
            "enter a name:-lofer\n",
            "refol\n"
          ]
        }
      ]
    },
    {
      "cell_type": "markdown",
      "source": [
        "3.Define a function that accepts a list of integers and returns a new list containing only the even numbers from the original list."
      ],
      "metadata": {
        "id": "zBURBPEv177C"
      }
    },
    {
      "cell_type": "code",
      "source": [
        "list =([1, 2, 3, 4, 5, 6, 7, 8, 9, 10])\n",
        "even_numbers =[num for num in list if num % 2 == 0]\n",
        "print(even_numbers)"
      ],
      "metadata": {
        "colab": {
          "base_uri": "https://localhost:8080/"
        },
        "id": "C67ozm9A18om",
        "outputId": "9111b2e5-26d9-4da4-ee7a-307743528d54"
      },
      "execution_count": 8,
      "outputs": [
        {
          "output_type": "stream",
          "name": "stdout",
          "text": [
            "[2, 4, 6, 8, 10]\n"
          ]
        }
      ]
    },
    {
      "cell_type": "markdown",
      "source": [
        "4.Implement a Python function to check if a given word is a palindrome (reads the same backward as forward)."
      ],
      "metadata": {
        "id": "vfuMOJfF2cPB"
      }
    },
    {
      "cell_type": "code",
      "source": [
        "string=input(\"enter a name:-\")\n",
        "def check_paliindrome(string):\n",
        "  if string == string[::-1]:\n",
        "    return True\n",
        "  else:\n",
        "    return False\n",
        "print(check_paliindrome(string))"
      ],
      "metadata": {
        "colab": {
          "base_uri": "https://localhost:8080/"
        },
        "id": "vuUeW_bL2dKG",
        "outputId": "91862abe-9f82-45eb-c878-26a44b2c10ca"
      },
      "execution_count": 12,
      "outputs": [
        {
          "output_type": "stream",
          "name": "stdout",
          "text": [
            "enter a name:-navi\n",
            "False\n"
          ]
        }
      ]
    }
  ]
}