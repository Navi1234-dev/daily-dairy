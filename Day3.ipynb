{
  "nbformat": 4,
  "nbformat_minor": 0,
  "metadata": {
    "colab": {
      "provenance": [],
      "authorship_tag": "ABX9TyMJt9odWEEgdTTnCNk5qYk5",
      "include_colab_link": true
    },
    "kernelspec": {
      "name": "python3",
      "display_name": "Python 3"
    },
    "language_info": {
      "name": "python"
    }
  },
  "cells": [
    {
      "cell_type": "markdown",
      "metadata": {
        "id": "view-in-github",
        "colab_type": "text"
      },
      "source": [
        "<a href=\"https://colab.research.google.com/github/Navi1234-dev/daily-dairy/blob/main/Day3.ipynb\" target=\"_parent\"><img src=\"https://colab.research.google.com/assets/colab-badge.svg\" alt=\"Open In Colab\"/></a>"
      ]
    },
    {
      "cell_type": "code",
      "execution_count": null,
      "metadata": {
        "id": "ONCxsPYL7gqE"
      },
      "outputs": [],
      "source": []
    },
    {
      "cell_type": "markdown",
      "source": [
        "1. Create a set with the rst ve prime numbers."
      ],
      "metadata": {
        "id": "JPibsRF_Ei27"
      }
    },
    {
      "cell_type": "code",
      "source": [
        "A = {2,3,5,7,9,11}\n",
        "print(A)"
      ],
      "metadata": {
        "colab": {
          "base_uri": "https://localhost:8080/"
        },
        "id": "Xh2Ha2uDEjnG",
        "outputId": "806371f5-3f9a-4431-b6b9-6fca7520317f"
      },
      "execution_count": 3,
      "outputs": [
        {
          "output_type": "stream",
          "name": "stdout",
          "text": [
            "{2, 3, 5, 7, 9, 11}\n"
          ]
        }
      ]
    },
    {
      "cell_type": "markdown",
      "source": [],
      "metadata": {
        "id": "Peby_-ZDEiW8"
      }
    },
    {
      "cell_type": "markdown",
      "source": [
        "2. Add the number 7 to the set."
      ],
      "metadata": {
        "id": "9hXN1BFgE5ZJ"
      }
    },
    {
      "cell_type": "code",
      "source": [
        "A = {2,3,5,7,11}\n",
        "A.add(8)\n",
        "print(A)\n"
      ],
      "metadata": {
        "colab": {
          "base_uri": "https://localhost:8080/"
        },
        "id": "l9I3PEOGE-1M",
        "outputId": "d6a02c95-218c-4734-e0af-7dd5b8693407"
      },
      "execution_count": 7,
      "outputs": [
        {
          "output_type": "stream",
          "name": "stdout",
          "text": [
            "{2, 3, 5, 7, 8, 11}\n"
          ]
        }
      ]
    },
    {
      "cell_type": "markdown",
      "source": [
        " 4. Check if the set is a subset of {2, 3, 5, 7, 11}."
      ],
      "metadata": {
        "id": "Vnb_cl3rFzc9"
      }
    },
    {
      "cell_type": "code",
      "source": [
        "A = {2, 3, 5, 7, 11}\n",
        "B = {2, 3, 5, 7}\n",
        "print(A.issubset(B))"
      ],
      "metadata": {
        "colab": {
          "base_uri": "https://localhost:8080/"
        },
        "id": "crZzyZY4F0in",
        "outputId": "4fb7c4ce-9ab3-410d-cf95-89247e154a99"
      },
      "execution_count": 8,
      "outputs": [
        {
          "output_type": "stream",
          "name": "stdout",
          "text": [
            "False\n"
          ]
        }
      ]
    },
    {
      "cell_type": "markdown",
      "source": [
        "5. Find the union of the set with {7, 11, 13}."
      ],
      "metadata": {
        "id": "2mmD84q8HBLa"
      }
    },
    {
      "cell_type": "code",
      "source": [
        "A = {2,3,5,7,11}\n",
        "B = {7,11,13}\n",
        "print(A.union (B))"
      ],
      "metadata": {
        "colab": {
          "base_uri": "https://localhost:8080/"
        },
        "id": "5eyaTGeSHCTE",
        "outputId": "5129dfcd-6a96-4629-be99-2eee908f8935"
      },
      "execution_count": 11,
      "outputs": [
        {
          "output_type": "stream",
          "name": "stdout",
          "text": [
            "{2, 3, 5, 7, 11, 13}\n"
          ]
        }
      ]
    },
    {
      "cell_type": "markdown",
      "source": [
        "6. Create a frozen set from the original set"
      ],
      "metadata": {
        "id": "8rfc7YbMH0ho"
      }
    },
    {
      "cell_type": "code",
      "source": [
        "s = frozenset({1,2,5,4,8,9})\n",
        "print(s)"
      ],
      "metadata": {
        "colab": {
          "base_uri": "https://localhost:8080/"
        },
        "id": "ehO3Ywe3Iwyy",
        "outputId": "2c41a61d-972a-4146-de02-ba0874d62d4b"
      },
      "execution_count": 13,
      "outputs": [
        {
          "output_type": "stream",
          "name": "stdout",
          "text": [
            "frozenset({1, 2, 4, 5, 8, 9})\n"
          ]
        }
      ]
    },
    {
      "cell_type": "markdown",
      "source": [
        " 7. Check if the set has any common elements with {1, 4, 9}."
      ],
      "metadata": {
        "id": "V5qfc0HyKuZL"
      }
    },
    {
      "cell_type": "code",
      "source": [
        "A = {2,3,5,7,11}\n",
        "A.intersection({1,4,9})"
      ],
      "metadata": {
        "colab": {
          "base_uri": "https://localhost:8080/"
        },
        "id": "mFqbg32tKvPX",
        "outputId": "922a1ccd-93e2-4841-fba0-e1f2a59b2214"
      },
      "execution_count": 14,
      "outputs": [
        {
          "output_type": "execute_result",
          "data": {
            "text/plain": [
              "set()"
            ]
          },
          "metadata": {},
          "execution_count": 14
        }
      ]
    },
    {
      "cell_type": "markdown",
      "source": [
        " 8. Remove all elements from the set."
      ],
      "metadata": {
        "id": "jv03AciqLaD2"
      }
    },
    {
      "cell_type": "code",
      "source": [
        "A = {2,4,6,8,7,9}\n",
        "A.clear()\n",
        "print(A)\n"
      ],
      "metadata": {
        "colab": {
          "base_uri": "https://localhost:8080/"
        },
        "id": "0k72gu4dLgCb",
        "outputId": "4382c1f5-f714-49b5-ad30-03e64bb3ee4e"
      },
      "execution_count": 22,
      "outputs": [
        {
          "output_type": "stream",
          "name": "stdout",
          "text": [
            "set()\n"
          ]
        }
      ]
    },
    {
      "cell_type": "markdown",
      "source": [
        " 9. Create a set of your favorite fruits and nd the intersection with { 'apple', 'banana', 'orange' }"
      ],
      "metadata": {
        "id": "-49ZvyO3MkrN"
      }
    },
    {
      "cell_type": "code",
      "source": [
        "fruits = {'apple', 'banana', 'orange' , 'mango'}\n",
        "b = { 'apple', 'banana', 'orange' }\n",
        "print(fruits.intersection(b))\n"
      ],
      "metadata": {
        "colab": {
          "base_uri": "https://localhost:8080/"
        },
        "id": "X22tRNcqMqkR",
        "outputId": "48b8cc51-2bd7-47f3-c493-74c90d6e8015"
      },
      "execution_count": 23,
      "outputs": [
        {
          "output_type": "stream",
          "name": "stdout",
          "text": [
            "{'orange', 'banana', 'apple'}\n"
          ]
        }
      ]
    },
    {
      "cell_type": "markdown",
      "source": [
        " 10. Use set comprehension to create a set of squares for numbers 1 to 10"
      ],
      "metadata": {
        "id": "wdhdHpdHNE-F"
      }
    },
    {
      "cell_type": "code",
      "source": [
        "sqares_set = {x**2 for x in range(1,11)}\n",
        "print(sqares_set)"
      ],
      "metadata": {
        "colab": {
          "base_uri": "https://localhost:8080/"
        },
        "id": "spegmxTINKoE",
        "outputId": "acffcb6f-a5db-4b69-c922-aacf3637f6e6"
      },
      "execution_count": 27,
      "outputs": [
        {
          "output_type": "stream",
          "name": "stdout",
          "text": [
            "{64, 1, 4, 36, 100, 9, 16, 49, 81, 25}\n"
          ]
        }
      ]
    },
    {
      "cell_type": "markdown",
      "source": [
        "LISTS\n",
        "\n",
        "1. Create a list of integers from 1 to 5."
      ],
      "metadata": {
        "id": "MZPaCT0qOqpz"
      }
    },
    {
      "cell_type": "code",
      "source": [
        "A = [1,2,3,4,5]\n",
        "print(A)"
      ],
      "metadata": {
        "colab": {
          "base_uri": "https://localhost:8080/"
        },
        "id": "dWGJMDirOs8_",
        "outputId": "81692843-f0e2-47bb-fffb-d594f4f00a85"
      },
      "execution_count": 28,
      "outputs": [
        {
          "output_type": "stream",
          "name": "stdout",
          "text": [
            "[1, 2, 3, 4, 5]\n"
          ]
        }
      ]
    },
    {
      "cell_type": "markdown",
      "source": [
        " 2. Append the number 6 to the list."
      ],
      "metadata": {
        "id": "6_5Se2V2O1OV"
      }
    },
    {
      "cell_type": "code",
      "source": [
        "A = [1,2,3,4,5]\n",
        "A.append(6)\n",
        "print(A)"
      ],
      "metadata": {
        "colab": {
          "base_uri": "https://localhost:8080/"
        },
        "id": "M93c8MWOO5th",
        "outputId": "9a639be6-41df-4bae-f3d4-926d9baf7ca9"
      },
      "execution_count": 29,
      "outputs": [
        {
          "output_type": "stream",
          "name": "stdout",
          "text": [
            "[1, 2, 3, 4, 5, 6]\n"
          ]
        }
      ]
    },
    {
      "cell_type": "markdown",
      "source": [
        " 3. Extend the list with another list: [7, 8, 9]"
      ],
      "metadata": {
        "id": "aeqjQrwWO-yB"
      }
    },
    {
      "cell_type": "code",
      "source": [
        "A = [1,2,3,4,5]\n",
        "B = [7,8,9]\n",
        "A.extend(B)\n",
        "print(A)\n"
      ],
      "metadata": {
        "colab": {
          "base_uri": "https://localhost:8080/"
        },
        "id": "o479NtdiPEiA",
        "outputId": "45b1cf69-5fac-417b-b91c-9ed0d748e4c6"
      },
      "execution_count": 30,
      "outputs": [
        {
          "output_type": "stream",
          "name": "stdout",
          "text": [
            "[1, 2, 3, 4, 5, 7, 8, 9]\n"
          ]
        }
      ]
    },
    {
      "cell_type": "markdown",
      "source": [
        " 4. Access and print the third element of the list."
      ],
      "metadata": {
        "id": "plx1rhLXPg5I"
      }
    },
    {
      "cell_type": "code",
      "source": [
        "A = [1,2,3,4,5]\n",
        "print(A[2])"
      ],
      "metadata": {
        "colab": {
          "base_uri": "https://localhost:8080/"
        },
        "id": "eY0xrTqYPkKS",
        "outputId": "165cd468-bd4a-4c14-b4b7-cc67da5c38ba"
      },
      "execution_count": 31,
      "outputs": [
        {
          "output_type": "stream",
          "name": "stdout",
          "text": [
            "3\n"
          ]
        }
      ]
    }
  ]
}