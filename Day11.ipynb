{
  "nbformat": 4,
  "nbformat_minor": 0,
  "metadata": {
    "colab": {
      "provenance": [],
      "include_colab_link": true
    },
    "kernelspec": {
      "name": "python3",
      "display_name": "Python 3"
    },
    "language_info": {
      "name": "python"
    }
  },
  "cells": [
    {
      "cell_type": "markdown",
      "metadata": {
        "id": "view-in-github",
        "colab_type": "text"
      },
      "source": [
        "<a href=\"https://colab.research.google.com/github/Navi1234-dev/daily-dairy/blob/main/Day11.ipynb\" target=\"_parent\"><img src=\"https://colab.research.google.com/assets/colab-badge.svg\" alt=\"Open In Colab\"/></a>"
      ]
    },
    {
      "cell_type": "markdown",
      "source": [
        "\n",
        "\n",
        "In Python, a module is a file containing Python definitions and statements. These files can contain functions, classes, variables, or runnable code that can be imported and used in other Python scripts or interactive sessions. Modules allow for modular programming in Python, enabling code reuse, organization, and abstraction.\n",
        "\n",
        "### Key Concepts of Python Modules:\n",
        "\n",
        "1. **Purpose and Utility**:\n",
        "   - Modules serve as building blocks for structuring Python programs into reusable components.\n",
        "   - They promote code organization, making it easier to manage and maintain large codebases.\n",
        "   - Modules encapsulate related functionality, promoting modularity and separation of concerns.\n",
        "\n",
        "2. **Creating Modules**:\n",
        "   - Any Python file can be considered a module by placing Python code within it.\n",
        "   - A module typically has a `.py` extension (e.g., `module_name.py`).\n",
        "   - It can include function definitions, class definitions, variables, and executable code.\n",
        "\n",
        "3. **Importing Modules**:\n",
        "   - To use the contents of a module in another Python script or session, you need to import it.\n",
        "   - Importing makes the definitions (functions, classes, variables) within the module accessible.\n",
        "\n",
        "4. **Module Namespaces**:\n",
        "   - Each module has its own namespace, which serves as a container for its definitions.\n",
        "   - Namespaces prevent naming conflicts by encapsulating module-specific names.\n",
        "\n",
        "5. **Standard Library and Third-Party Modules**:\n",
        "   - Python comes with a standard library containing built-in modules that provide commonly used functionality (e.g., `math`, `os`, `datetime`).\n",
        "   - Third-party modules can be installed separately using package managers like `pip`. These extend Python's capabilities beyond the standard library.\n",
        "\n",
        "6. **Package vs. Module**:\n",
        "   - A package is a collection of modules organized in directories. It includes an `__init__.py` file to indicate it's a package.\n",
        "   - Packages can contain sub-packages and modules, enabling hierarchical organization of code.\n",
        "\n",
        "### Example of Using a Module:\n",
        "\n",
        "Let's consider a simple example where we create a module named `my_module.py`:\n",
        "\n",
        "```python\n",
        "# my_module.py\n",
        "\n",
        "def greet(name):\n",
        "    print(f\"Hello, {name}!\")\n",
        "\n",
        "def add_numbers(a, b):\n",
        "    return a + b\n",
        "\n",
        "if __name__ == \"__main__\":\n",
        "    # Executable code when running this module directly\n",
        "    print(\"Executing my_module.py directly.\")\n",
        "    result = add_numbers(3, 5)\n",
        "    print(\"Result:\", result)\n",
        "```\n",
        "\n",
        "To use this module in another Python script `main.py`, you would import it like this:\n",
        "\n",
        "```python\n",
        "# main.py\n",
        "\n",
        "import my_module\n",
        "\n",
        "my_module.greet(\"Alice\")\n",
        "sum_result = my_module.add_numbers(10, 20)\n",
        "print(\"Sum:\", sum_result)\n",
        "```\n",
        "\n",
        "### Benefits of Using Modules:\n",
        "\n",
        "- **Code Reusability**: Modules allow you to reuse functions, classes, and variables across different parts of your program.\n",
        "- **Encapsulation**: Modules encapsulate related functionality, promoting clear and organized code.\n",
        "- **Namespace Management**: Modules manage namespaces to avoid name conflicts and maintain code clarity.\n",
        "- **Facilitates Collaboration**: Modules enable multiple developers to work on different parts of a project concurrently while maintaining code integrity.\n",
        "\n",
        "\n"
      ],
      "metadata": {
        "id": "BovqfxVjdzcT"
      }
    },
    {
      "cell_type": "code",
      "execution_count": null,
      "metadata": {
        "id": "ZyODnoACde-O"
      },
      "outputs": [],
      "source": []
    },
    {
      "cell_type": "markdown",
      "source": [
        "\n",
        "\n",
        "#### Introduction to the Random Module\n",
        "\n",
        "The `random` module in Python provides functions to generate random numbers and perform random selections. It's a versatile tool used in various applications such as simulations, games, cryptography, and statistical sampling. Understanding its functions and usage can greatly enhance your ability to handle randomness in Python programming.\n",
        "\n",
        "#### Key Functions of the Random Module\n",
        "\n",
        "1. **Generating Random Numbers**\n",
        "   - `random.random()`: Returns a random float in the range [0.0, 1.0).\n",
        "   - `random.randint(a, b)`: Returns a random integer between `a` and `b`, inclusive.\n",
        "   - `random.uniform(a, b)`: Returns a random float between `a` and `b`.\n",
        "\n",
        "2. **Random Choices**\n",
        "   - `random.choice(seq)`: Returns a random element from the non-empty sequence `seq`.\n",
        "   - `random.choices(population, weights=None, k=1)`: Returns a list of `k` elements chosen from `population` with optional weights.\n",
        "   - `random.sample(population, k)`: Returns a k-length list of unique elements chosen from `population`.\n",
        "\n",
        "3. **Shuffling and Randomization**\n",
        "   - `random.shuffle(lst)`: Shuffles the elements of list `lst` in place.\n",
        "   - `random.sample(population, k)`: Returns a k-length list of unique elements chosen from `population`.\n",
        "\n",
        "4. **Seed Control**\n",
        "   - `random.seed(a=None)`: Initializes the random number generator with a seed value `a`. Ensures reproducibility of results when the same seed is used.\n",
        "\n",
        "#### Examples and Demonstrations\n",
        "\n",
        "\n",
        "```\n",
        "\n",
        "#### Practical Applications\n",
        "\n",
        "- **Game Development**: Use `random` for generating random game levels, enemy behavior, or dice rolls.\n",
        "  \n",
        "- **Statistical Sampling**: Implement simulations or experiments where random sampling is required.\n",
        "\n",
        "- **Cryptographic Applications**: Generate random keys or salts for encryption purposes.\n",
        "\n",
        "- **Data Analysis**: Randomly shuffle data for machine learning model validation or statistical testing.\n",
        "\n",
        "#### Conclusion\n",
        "\n",
        "The `random` module in Python is a powerful tool for handling randomness in various applications. By mastering its functions, you can efficiently generate random values, make random selections, shuffle data, and ensure reproducibility when needed. Understanding these concepts enhances your ability to create robust and dynamic Python programs."
      ],
      "metadata": {
        "id": "QfFPQ_AkeXcm"
      }
    },
    {
      "cell_type": "code",
      "source": [
        "# Generating Random Numbers\n",
        "\n",
        "import random\n",
        "\n",
        "# Generate a random float between 0.0 and 1.0\n",
        "print(random.random())\n",
        "\n",
        "# Generate a random integer between 1 and 10\n",
        "print(random.randint(1, 10))\n",
        "\n",
        "# Generate a random float between 1.0 and 5.0\n",
        "print(random.uniform(1.0, 5.0))\n",
        "\n",
        "\n"
      ],
      "metadata": {
        "id": "xe4rPBPhelcY",
        "colab": {
          "base_uri": "https://localhost:8080/"
        },
        "outputId": "11d6da5e-88eb-4f96-9b21-78ab7ef84bbc"
      },
      "execution_count": null,
      "outputs": [
        {
          "output_type": "stream",
          "name": "stdout",
          "text": [
            "0.8815892299997907\n",
            "4\n",
            "3.148463861463431\n"
          ]
        }
      ]
    },
    {
      "cell_type": "code",
      "source": [
        "# Random Choices\n",
        "\n",
        "\n",
        "import random\n",
        "\n",
        "colors = ['Red', 'Green', 'Blue', 'Yellow']\n",
        "\n",
        "# Choose a random color from the list\n",
        "print(random.choice(colors))\n",
        "\n",
        "# Choose 3 colors with replacement (may repeat)\n",
        "print(random.choices(colors, k=3))\n",
        "\n",
        "# Choose 2 unique colors without replacement\n",
        "print(random.sample(colors, k=2))\n",
        "\n",
        "\n"
      ],
      "metadata": {
        "id": "-A9IRn_IeucA",
        "colab": {
          "base_uri": "https://localhost:8080/"
        },
        "outputId": "97985f48-f7ff-42d6-902b-03a1191e6031"
      },
      "execution_count": null,
      "outputs": [
        {
          "output_type": "stream",
          "name": "stdout",
          "text": [
            "Blue\n",
            "['Green', 'Blue', 'Red']\n",
            "['Green', 'Blue']\n"
          ]
        }
      ]
    },
    {
      "cell_type": "code",
      "source": [
        "# Shuffling a List\n",
        "\n",
        "\n",
        "import random\n",
        "\n",
        "deck = ['Ace', 'King', 'Queen', 'Jack', '10', '9', '8', '7']\n",
        "\n",
        "# Shuffle the deck in place\n",
        "random.shuffle(deck)\n",
        "print(deck)\n",
        "\n"
      ],
      "metadata": {
        "id": "xdZUAmCke3Le",
        "colab": {
          "base_uri": "https://localhost:8080/"
        },
        "outputId": "eb3b5943-9ca3-430b-8b62-f67376b9c8a5"
      },
      "execution_count": null,
      "outputs": [
        {
          "output_type": "stream",
          "name": "stdout",
          "text": [
            "['Ace', '9', '7', 'Jack', '10', 'Queen', '8', 'King']\n"
          ]
        }
      ]
    },
    {
      "cell_type": "code",
      "source": [
        "# Seed Control for Reproducibility\n",
        "\n",
        "\n",
        "import random\n",
        "\n",
        "# Seed with a specific value for reproducibility\n",
        "random.seed(23)\n",
        "\n",
        "# Generate a sequence of random numbers\n",
        "print(random.random())\n",
        "print(random.randint(1, 10))"
      ],
      "metadata": {
        "id": "cv1IOBXVe9vc",
        "colab": {
          "base_uri": "https://localhost:8080/"
        },
        "outputId": "2262c32d-a95f-4110-fd24-a9728ac73a56"
      },
      "execution_count": null,
      "outputs": [
        {
          "output_type": "stream",
          "name": "stdout",
          "text": [
            "0.9248652516259452\n",
            "5\n"
          ]
        }
      ]
    },
    {
      "cell_type": "markdown",
      "source": [],
      "metadata": {
        "id": "zSIakARceklG"
      }
    },
    {
      "cell_type": "markdown",
      "source": [
        "# **Introduction to the Math Module**\n",
        "\n",
        "The math module in Python provides access to mathematical functions that perform mathematical operations on numerical data. It includes functions for basic arithmetic, trigonometry, logarithms, exponentiation, and more complex operations. Understanding and utilizing the math module is essential for performing advanced mathematical computations in Python.\n",
        "\n",
        "**Key Functions of the Math Module**\n",
        "\n",
        "**1.Basic Arithmetic Operations**\n",
        "\n",
        "* math.sqrt(x): Returns the square root of x.\n",
        "* math.pow(x, y): Returns x raised to the power of y.\n",
        "* math.factorial(x): Returns the factorial of x.\n",
        "\n",
        "**2.Trigonometric Functions**\n",
        "\n",
        "* math.sin(x), math.cos(x), math.tan(x): Returns the sine, cosine, and tangent of x (in radians).\n",
        "* math.radians(x), math.degrees(x): Convert angles from degrees to radians and vice versa.\n",
        "\n",
        "**3.Logarithmic and Exponential Functions**\n",
        "\n",
        "* math.log(x, base): Returns the logarithm of x to the given base (default is natural logarithm).\n",
        "*math.exp(x): Returns e raised to the power of x.\n",
        "\n",
        "**Constants**\n",
        "\n",
        "* math.pi: Mathematical constant π (pi).\n",
        "* math.e: Mathematical constant e (base of natural logarithm)."
      ],
      "metadata": {
        "id": "iDqQI0zwfS47"
      }
    },
    {
      "cell_type": "markdown",
      "source": [
        "# Basic Arithmetic Operations"
      ],
      "metadata": {
        "id": "H_IPcNvvgCLx"
      }
    },
    {
      "cell_type": "code",
      "source": [
        "import math\n",
        "\n",
        "# Calculate square root of a number\n",
        "print(math.sqrt(25))\n",
        "\n",
        "# Calculate 2 raised to the power of 3\n",
        "print(math.pow(2, 3))\n",
        "\n",
        "# Calculate factorial of 5\n",
        "print(math.factorial(5))\n"
      ],
      "metadata": {
        "id": "nl4GxrY4e_6s",
        "colab": {
          "base_uri": "https://localhost:8080/"
        },
        "outputId": "5015eae8-9c47-44e1-d043-69bde60f2298"
      },
      "execution_count": null,
      "outputs": [
        {
          "output_type": "stream",
          "name": "stdout",
          "text": [
            "5.0\n",
            "8.0\n",
            "120\n"
          ]
        }
      ]
    },
    {
      "cell_type": "markdown",
      "source": [
        "# **Trigonometric Functions**"
      ],
      "metadata": {
        "id": "WZ2be_5bgGI5"
      }
    },
    {
      "cell_type": "code",
      "source": [
        "import math\n",
        "\n",
        "# Calculate sine of 45 degrees (converted to radians)\n",
        "print(math.sin(math.radians(45)))\n",
        "\n",
        "# Calculate cosine of 30 degrees (converted to radians)\n",
        "print(math.cos(math.radians(30)))\n",
        "\n",
        "# Calculate tangent of 60 degrees (converted to radians)\n",
        "print(math.tan(math.radians(60)))\n"
      ],
      "metadata": {
        "id": "JoyrS_m3gJse",
        "colab": {
          "base_uri": "https://localhost:8080/"
        },
        "outputId": "78bf4f15-9ef8-40f8-9da6-f8e73545429f"
      },
      "execution_count": null,
      "outputs": [
        {
          "output_type": "stream",
          "name": "stdout",
          "text": [
            "0.7071067811865475\n",
            "0.8660254037844387\n",
            "1.7320508075688767\n"
          ]
        }
      ]
    },
    {
      "cell_type": "markdown",
      "source": [
        "# **Logarithmic and Exponential Functions**"
      ],
      "metadata": {
        "id": "0tnDQp4_gMPK"
      }
    },
    {
      "cell_type": "code",
      "source": [
        "import math\n",
        "\n",
        "# Calculate natural logarithm of 10\n",
        "print(math.log(10))\n",
        "\n",
        "# Calculate logarithm of 100 to base 10\n",
        "print(math.log(100, 10))\n",
        "\n",
        "# Calculate e raised to the power of 2\n",
        "print(math.exp(2))\n"
      ],
      "metadata": {
        "id": "nRganvdRgTG7",
        "colab": {
          "base_uri": "https://localhost:8080/"
        },
        "outputId": "73340212-58d8-425e-d3e1-6b7337f89370"
      },
      "execution_count": null,
      "outputs": [
        {
          "output_type": "stream",
          "name": "stdout",
          "text": [
            "2.302585092994046\n",
            "2.0\n",
            "7.38905609893065\n"
          ]
        }
      ]
    },
    {
      "cell_type": "code",
      "source": [
        "print(math.pi)"
      ],
      "metadata": {
        "colab": {
          "base_uri": "https://localhost:8080/"
        },
        "id": "q9CJW-BhfW_M",
        "outputId": "6fb694df-7e51-4c72-e629-fdb298756ced"
      },
      "execution_count": null,
      "outputs": [
        {
          "output_type": "stream",
          "name": "stdout",
          "text": [
            "3.141592653589793\n"
          ]
        }
      ]
    },
    {
      "cell_type": "code",
      "source": [
        "print(math.e)"
      ],
      "metadata": {
        "colab": {
          "base_uri": "https://localhost:8080/"
        },
        "id": "6dKEZ_hUfd1u",
        "outputId": "802518ea-64d7-415a-9c2d-04e7aac87614"
      },
      "execution_count": null,
      "outputs": [
        {
          "output_type": "stream",
          "name": "stdout",
          "text": [
            "2.718281828459045\n"
          ]
        }
      ]
    },
    {
      "cell_type": "markdown",
      "source": [
        "**Practical Applications**\n",
        "\n",
        "* Scientific Computing: Use math for scientific calculations, numerical analysis, and modeling.\n",
        "\n",
        "* Engineering Applications: Perform calculations related to physics, geometry, and signal processing.\n",
        "\n",
        "* Financial Calculations: Compute interest rates, present values, and other financial metrics.\n",
        "\n",
        "* Statistical Analysis: Utilize mathematical functions for statistical operations such as probability distributions and hypothesis testing."
      ],
      "metadata": {
        "id": "3z2rw4RpgXl-"
      }
    },
    {
      "cell_type": "markdown",
      "source": [
        "\n",
        "\n",
        "#### Introduction to the Datetime Module\n",
        "\n",
        "The `datetime` module in Python provides classes for manipulating dates and times. It offers functionality to work with dates, times, timedeltas (differences between dates or times), time zones, and formatting options. Understanding and utilizing the `datetime` module is crucial for handling date and time data effectively in Python programming.\n",
        "\n",
        "#### Key Classes and Functions of the Datetime Module\n",
        "\n",
        "1. **Date Objects**\n",
        "   - `datetime.date(year, month, day)`: Represents a date (year, month, day).\n",
        "   - `date.today()`: Returns the current local date.\n",
        "   - `date.strftime(format)`: Formats a date object into a string using specified format codes.\n",
        "\n",
        "2. **Time Objects**\n",
        "   - `datetime.time(hour, minute, second, microsecond)`: Represents a time (hour, minute, second, microsecond).\n",
        "   - `time.strftime(format)`: Formats a time object into a string using specified format codes.\n",
        "\n",
        "3. **Datetime Objects**\n",
        "   - `datetime.datetime(year, month, day, hour, minute, second, microsecond)`: Represents a datetime (date and time).\n",
        "   - `datetime.now()`: Returns the current local datetime.\n",
        "   - `datetime.strptime(date_string, format)`: Parses a string into a datetime object based on the format.\n",
        "\n",
        "4. **Timedelta Objects**\n",
        "   - `datetime.timedelta(days, seconds, microseconds, milliseconds, minutes, hours, weeks)`: Represents a duration or difference between two dates or times.\n",
        "\n",
        "\n",
        "\n",
        "\n",
        "#### Practical Applications\n",
        "\n",
        "- **Date and Time Calculations**: Perform calculations such as date differences, time durations, and scheduling.\n",
        "  \n",
        "- **Data Analysis**: Manipulate timestamps and analyze time series data.\n",
        "\n",
        "- **Web Applications**: Manage session timeouts, scheduling tasks, or displaying timestamps.\n",
        "\n",
        "- **Database Operations**: Store and retrieve dates/times from databases and handle timezone conversions.\n",
        "\n"
      ],
      "metadata": {
        "id": "SZDVlZeAgfWo"
      }
    },
    {
      "cell_type": "code",
      "source": [
        "#### Examples and Demonstrations\n",
        "\n",
        "##### Working with Date Objects\n",
        "\n",
        "\n",
        "import datetime\n",
        "\n",
        "# Create a date object\n",
        "d = datetime.date(2024, 6, 17)\n",
        "print(d)\n",
        "\n",
        "# Get today's date\n",
        "today = datetime.date.today()\n",
        "print(today)\n",
        "\n",
        "# Format date as string\n",
        "print(today.strftime('%Y-%m-%d'))\n",
        "\n",
        "\n",
        "\n",
        "\n",
        "\n"
      ],
      "metadata": {
        "id": "2UdLl4j6g_mo",
        "outputId": "19fe44f8-70b3-4af8-9382-961cf25ebd3c",
        "colab": {
          "base_uri": "https://localhost:8080/"
        }
      },
      "execution_count": null,
      "outputs": [
        {
          "output_type": "stream",
          "name": "stdout",
          "text": [
            "2024-06-17\n",
            "2024-06-18\n",
            "2024-06-18\n"
          ]
        }
      ]
    },
    {
      "cell_type": "code",
      "source": [
        "## Working with Time Objects\n",
        "\n",
        "\n",
        "import datetime\n",
        "\n",
        "# Create a time object\n",
        "t = datetime.time(10, 30, 0)\n",
        "print(t)\n",
        "\n",
        "# Format time as string\n",
        "print(t.strftime('%H:%M:%S'))"
      ],
      "metadata": {
        "id": "mxPQaFWuhE00"
      },
      "execution_count": null,
      "outputs": []
    },
    {
      "cell_type": "code",
      "source": [
        "# Working with Datetime Objects\n",
        "\n",
        "\n",
        "import datetime\n",
        "\n",
        "# Create a datetime object\n",
        "dt = datetime.datetime(2024, 6, 17, 10, 30, 0)\n",
        "print(dt)\n",
        "\n",
        "# Get current datetime\n",
        "now = datetime.datetime.now()\n",
        "print(now)\n",
        "\n",
        "# Parse string to datetime\n",
        "dt_str = '2024-06-17 10:30:00'\n",
        "parsed_dt = datetime.datetime.strptime(dt_str, '%Y-%m-%d %H:%M:%S')\n",
        "print(parsed_dt)"
      ],
      "metadata": {
        "id": "C1kvMd4uhJws"
      },
      "execution_count": null,
      "outputs": []
    },
    {
      "cell_type": "code",
      "source": [
        "\n",
        "import datetime\n",
        "\n",
        "# Calculate difference between two dates\n",
        "d1 = datetime.date(2024, 6, 17)\n",
        "d2 = datetime.date(2024, 6, 24)\n",
        "delta = d2 - d1\n",
        "print(delta.days)  # Number of days difference\n",
        "\n",
        "# Calculate difference between two times\n",
        "t1 = datetime.datetime(2024, 6, 17, 10, 0, 0)\n",
        "t2 = datetime.datetime(2024, 6, 17, 11, 30, 0)\n",
        "time_delta = t2 - t1\n",
        "print(time_delta.total_seconds())  # Difference in seconds"
      ],
      "metadata": {
        "id": "O8mxeJBAhPZj"
      },
      "execution_count": null,
      "outputs": []
    },
    {
      "cell_type": "markdown",
      "source": [],
      "metadata": {
        "id": "sFErTNkVg8xD"
      }
    },
    {
      "cell_type": "code",
      "source": [
        "import random\n",
        "\n",
        "def play_game():\n",
        "    choices = [\"rock\", \"paper\", \"scissors\"]\n",
        "\n",
        "    user_choice = input(\"Enter your choice (rock, paper, scissors): \").lower()\n",
        "    while user_choice not in choices:\n",
        "        user_choice = input(\"Invalid choice. Please enter rock, paper, or scissors: \").lower()\n",
        "\n",
        "    computer_choice = random.choice(choices)\n",
        "\n",
        "    print(f\"\\nYou chose: {user_choice}\")\n",
        "    print(f\"Computer chose: {computer_choice}\")\n",
        "\n",
        "    if user_choice == computer_choice:\n",
        "        result = \"It's a tie!\"\n",
        "    elif (user_choice == \"rock\" and computer_choice == \"scissors\") or \\\n",
        "         (user_choice == \"paper\" and computer_choice == \"rock\") or \\\n",
        "         (user_choice == \"scissors\" and computer_choice == \"paper\"):\n",
        "        result = \"You win!\"\n",
        "    else:\n",
        "        result = \"You lose!\"\n",
        "\n",
        "    print(result)\n",
        "\n",
        "\n",
        "play_game()\n"
      ],
      "metadata": {
        "id": "qB5UbQpHhhpq",
        "outputId": "2c2597fd-de2e-4c3f-dc0c-3120afa20113",
        "colab": {
          "base_uri": "https://localhost:8080/"
        }
      },
      "execution_count": null,
      "outputs": [
        {
          "output_type": "stream",
          "name": "stdout",
          "text": [
            "Enter your choice (rock, paper, scissors): rock\n",
            "\n",
            "You chose: rock\n",
            "Computer chose: scissors\n",
            "You win!\n"
          ]
        }
      ]
    },
    {
      "cell_type": "markdown",
      "source": [
        "1. *Event Reminder Application*\n",
        "   - Your task is to create an event reminder application. The application should accept the event name and event date (in YYYY-MM-DD format) from the user and calculate how many days are left until the event.\n",
        "\n"
      ],
      "metadata": {
        "id": "xgLI-BX1jcuE"
      }
    },
    {
      "cell_type": "code",
      "source": [
        "from datetime import datetime\n",
        "\n",
        "def get_event_details():\n",
        "    event_name = input(\"Enter the event name: \")\n",
        "    event_date_str = input(\"Enter the event date (YYYY-MM-DD): \")\n",
        "\n",
        "    try:\n",
        "        event_date = datetime.strptime(event_date_str, \"%Y-%m-%d\").date()\n",
        "    except ValueError:\n",
        "        print(\"Invalid date format. Please enter the date in YYYY-MM-DD format.\")\n",
        "        return\n",
        "\n",
        "    today = datetime.today().date()\n",
        "    days_left = (event_date - today).days\n",
        "\n",
        "    if days_left > 0:\n",
        "        print(f\"The event '{event_name}' is in {days_left} days.\")\n",
        "    elif days_left == 0:\n",
        "        print(f\"The event '{event_name}' is today!\")\n",
        "    else:0\n",
        "        print(f\"The event '{event_name}' was {-days_left} days ago.\")\n",
        "\n",
        "if __name__ == \"__main__\":\n",
        "    get_event_details()"
      ],
      "metadata": {
        "id": "wkUEP-tGjduU",
        "outputId": "5cb47e7c-2a4d-4f71-ecdc-d5ed90ac5ee2",
        "colab": {
          "base_uri": "https://localhost:8080/"
        }
      },
      "execution_count": null,
      "outputs": [
        {
          "output_type": "stream",
          "name": "stdout",
          "text": [
            "Enter the event name: navi birithday\n",
            "Enter the event date (YYYY-MM-DD): 2024-6-28\n",
            "The event 'navi birithday' is in 10 days.\n"
          ]
        }
      ]
    },
    {
      "cell_type": "markdown",
      "source": [
        "2. *Time Duration Calculation*\n",
        "   - Write a program that asks the user to input two times (start time and end time) in HH:MM:SS format. Calculate and print the duration between these two times in hours, minutes, and seconds.\n",
        "\n"
      ],
      "metadata": {
        "id": "AvtucsDQpvKC"
      }
    },
    {
      "cell_type": "code",
      "source": [
        "from datetime import datetime, timedelta\n",
        "\n",
        "def get_time_duration():\n",
        "    start_time_str = input(\"Enter the start time (HH:MM:SS): \")\n",
        "    end_time_str = input(\"Enter the end time (HH:MM:SS): \")\n",
        "\n",
        "    time_format = \"%H:%M:%S\"\n",
        "\n",
        "    try:\n",
        "        start_time = datetime.strptime(start_time_str, time_format)\n",
        "        end_time = datetime.strptime(end_time_str, time_format)\n",
        "    except ValueError:\n",
        "        print(\"Invalid time format. Please enter the time in HH:MM:SS format.\")\n",
        "        return\n",
        "\n",
        "    if end_time < start_time:\n",
        "        end_time += timedelta(days=1)  # Handle the case where end time is past midnight\n",
        "\n",
        "    duration = end_time - start_time\n",
        "    duration_in_seconds = duration.total_seconds()\n",
        "    hours = int(duration_in_seconds // 3600)\n",
        "    minutes = int((duration_in_seconds % 3600) // 60)\n",
        "    seconds = int(duration_in_seconds % 60)\n",
        "\n",
        "    print(f\"Duration: {hours} hours, {minutes} minutes, and {seconds} seconds.\")\n",
        "\n",
        "if __name__ == \"__main__\":\n",
        "    get_time_duration()"
      ],
      "metadata": {
        "id": "01jtQ5WZpvv_",
        "outputId": "32cde466-06ed-476f-97be-c04ef66ad895",
        "colab": {
          "base_uri": "https://localhost:8080/"
        }
      },
      "execution_count": null,
      "outputs": [
        {
          "output_type": "stream",
          "name": "stdout",
          "text": [
            "Enter the start time (HH:MM:SS): 3-85-6\n",
            "Enter the end time (HH:MM:SS): 5-65-3\n",
            "Invalid time format. Please enter the time in HH:MM:SS format.\n"
          ]
        }
      ]
    },
    {
      "cell_type": "code",
      "source": [
        "import datetime\n",
        "event_name=input(\"enter event name:-\")\n",
        "year=int(input(\"enter the year:-\"))\n",
        "month=int(input(\"enter the month:-\"))\n",
        "day=int(input(\"enter the day:-\"))\n",
        "def days_left():\n",
        "  event_date=datetime.date(year,month,day)\n",
        "  today_date=datetime.date.today()\n",
        "  day_left=event_date-today_date\n",
        "  print(\"day left :-\",day_left.days)\n",
        "days_left()\n"
      ],
      "metadata": {
        "id": "9HPtCd0XtY2O",
        "outputId": "c37bdab5-eb2d-473d-f583-62ec9aa2164e",
        "colab": {
          "base_uri": "https://localhost:8080/"
        }
      },
      "execution_count": null,
      "outputs": [
        {
          "output_type": "stream",
          "name": "stdout",
          "text": [
            "enter event name:-nabi birthday\n",
            "enter the year:-2024\n",
            "enter the month:-6\n",
            "enter the day:-25\n",
            "day left :- 7\n"
          ]
        }
      ]
    },
    {
      "cell_type": "markdown",
      "source": [],
      "metadata": {
        "id": "OW62MVaKjcql"
      }
    }
  ]
}