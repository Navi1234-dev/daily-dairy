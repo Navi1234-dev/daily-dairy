{
  "nbformat": 4,
  "nbformat_minor": 0,
  "metadata": {
    "colab": {
      "provenance": [],
      "authorship_tag": "ABX9TyNazbfu4cBCkFF1YcbivkK7",
      "include_colab_link": true
    },
    "kernelspec": {
      "name": "python3",
      "display_name": "Python 3"
    },
    "language_info": {
      "name": "python"
    }
  },
  "cells": [
    {
      "cell_type": "markdown",
      "metadata": {
        "id": "view-in-github",
        "colab_type": "text"
      },
      "source": [
        "<a href=\"https://colab.research.google.com/github/Navi1234-dev/daily-dairy/blob/main/Day8.ipynb\" target=\"_parent\"><img src=\"https://colab.research.google.com/assets/colab-badge.svg\" alt=\"Open In Colab\"/></a>"
      ]
    },
    {
      "cell_type": "markdown",
      "source": [
        "12. Create a Movie class with attributes for title, director, and release year. Add a method to display the movie's information. Create an object and call the method.\n",
        "\n"
      ],
      "metadata": {
        "id": "iaoo6J2xXFAe"
      }
    },
    {
      "cell_type": "code",
      "source": [
        "class Movie:\n",
        "    def __init__(self, title, director, release_year):\n",
        "        self.title = title\n",
        "        self.director = director\n",
        "        self.release_year = release_year\n",
        "    def movie_information(self):\n",
        "        print(\"Title:\", self.title)\n",
        "        print(\"Director:\", self.director)\n",
        "        print(\"Release Year:\", self.release_year)\n",
        "\n",
        "movie = Movie(\"Ready\",\"Navdeep Singh\",2024)\n",
        "movie.movie_information()\n",
        "\n",
        "\n",
        ""
      ],
      "metadata": {
        "colab": {
          "base_uri": "https://localhost:8080/"
        },
        "id": "r0I09Q97XU3G",
        "outputId": "914478fc-86c3-4fdb-ea2a-fb31b3c39aea"
      },
      "execution_count": 4,
      "outputs": [
        {
          "output_type": "stream",
          "name": "stdout",
          "text": [
            "Title: Ready\n",
            "Director: Navdeep Singh\n",
            "Release Year: 2024\n"
          ]
        }
      ]
    },
    {
      "cell_type": "markdown",
      "source": [
        "13. Define a Product class with attributes for name and price. Add a method to calculate the price after tax (assume a fixed tax rate). Create an object and print the price after tax.\n",
        "\n"
      ],
      "metadata": {
        "id": "vagDDoDkfsPn"
      }
    },
    {
      "cell_type": "code",
      "source": [
        "class Product:\n",
        "    def __init__(self, name, price):\n",
        "        self.name = name\n",
        "        self.price = price\n",
        "\n",
        "    def calculate_price_after_tax(self):\n",
        "        tax_rate = 0.10\n",
        "        tax_amount = self.price * tax_rate\n",
        "        total_price = self.price + tax_amount\n",
        "        return total_price\n",
        "\n",
        "product = Product(\"Laptop\", 50000)\n",
        "price_after_tax = product.calculate_price_after_tax()\n",
        "print(\"Price after tax:\", price_after_tax)"
      ],
      "metadata": {
        "colab": {
          "base_uri": "https://localhost:8080/"
        },
        "id": "Fj9pWzccftH8",
        "outputId": "c1bc02e7-ba34-46fc-e793-f5270137c4bb"
      },
      "execution_count": 5,
      "outputs": [
        {
          "output_type": "stream",
          "name": "stdout",
          "text": [
            "Price after tax: 55000.0\n"
          ]
        }
      ]
    },
    {
      "cell_type": "markdown",
      "source": [
        "14. Create a Player class with attributes for name and score. Add a method to update the score. Create an object and test the method.\n",
        "\n"
      ],
      "metadata": {
        "id": "NPB2ZRhshSOp"
      }
    },
    {
      "cell_type": "code",
      "source": [
        "class Player:\n",
        "    def __init__(self, name, score):\n",
        "        self.name = name\n",
        "        self.score = score\n",
        "\n",
        "    def update_score(self, new_score):\n",
        "        self.score = new_score\n",
        "\n",
        "player = Player(\"Navdeep Singh\", 100)\n",
        "print(\"Initial Score:\", player.score)\n",
        "\n",
        "player.update_score(200)\n",
        "print(\"Updated Score:\", player.score)\n"
      ],
      "metadata": {
        "colab": {
          "base_uri": "https://localhost:8080/"
        },
        "id": "VW6vTvSqhgR-",
        "outputId": "65b9fc61-cbbf-4964-b705-b7b7f732455e"
      },
      "execution_count": 6,
      "outputs": [
        {
          "output_type": "stream",
          "name": "stdout",
          "text": [
            "Initial Score: 100\n",
            "Updated Score: 200\n"
          ]
        }
      ]
    },
    {
      "cell_type": "markdown",
      "source": [
        "\n",
        "15. Define a House class with attributes for address and number of rooms. Add a method to display the house's details. Create an object and call the method.\n"
      ],
      "metadata": {
        "id": "edVcjmUAipn9"
      }
    },
    {
      "cell_type": "code",
      "source": [
        "class House:\n",
        "    def __init__(self, address, number_of_rooms):\n",
        "        self.address = address\n",
        "        self.number_of_rooms = number_of_rooms\n",
        "    def house_detail(self):\n",
        "        print(\"Address:\", self.address)\n",
        "        print(\"Number of Rooms:\", self.number_of_rooms)\n",
        "\n",
        "house = House(\"vill.Rasulra\", 5)\n",
        "house.house_detail()\n"
      ],
      "metadata": {
        "colab": {
          "base_uri": "https://localhost:8080/"
        },
        "id": "-Z81wHVniqp3",
        "outputId": "cc6edbd0-512e-4443-993c-01d38efc8d59"
      },
      "execution_count": 7,
      "outputs": [
        {
          "output_type": "stream",
          "name": "stdout",
          "text": [
            "Address: vill.Rasulra\n",
            "Number of Rooms: 5\n"
          ]
        }
      ]
    },
    {
      "cell_type": "markdown",
      "source": [
        "16. Create a Shape class with attributes for color and filled (a boolean). Add a method to display the shape's properties. Create an object and call the method."
      ],
      "metadata": {
        "id": "CVny2NlrjXn2"
      }
    },
    {
      "cell_type": "code",
      "source": [
        "class Shape:\n",
        "    def __init__(self, color, filled):\n",
        "        self.color = color\n",
        "        self.filled = filled\n",
        "    def shape_properties(self):\n",
        "        print(\"Color:\", self.color)\n",
        "        print(\"Filled:\", self.filled)\n",
        "shape = Shape(\"blue\",\"black\")\n",
        "shape.shape_properties()"
      ],
      "metadata": {
        "colab": {
          "base_uri": "https://localhost:8080/"
        },
        "id": "8JCWu7e3jjTd",
        "outputId": "9219b0ec-7472-4fed-91f9-f834793d111a"
      },
      "execution_count": 8,
      "outputs": [
        {
          "output_type": "stream",
          "name": "stdout",
          "text": [
            "Color: blue\n",
            "Filled: black\n"
          ]
        }
      ]
    },
    {
      "cell_type": "markdown",
      "source": [
        "17. Define a Vehicle class with attributes for type and speed. Add a method to accelerate (increase the speed). Create an object and test the method.\n"
      ],
      "metadata": {
        "id": "SWf_lknskcUf"
      }
    },
    {
      "cell_type": "code",
      "source": [
        "class Vehicle:\n",
        "    def __init__(self, type, speed):\n",
        "        self.type = type\n",
        "        self.speed = speed\n",
        "\n",
        "    def accelerate(self, acceleration):\n",
        "        self.speed += acceleration\n",
        "\n",
        "vehicle = Vehicle(\"Car\", 0)\n",
        "print(\"Initial Speed:\", vehicle.speed)\n",
        "\n",
        "vehicle.accelerate(50)\n",
        "print(\"Accelerated Speed:\", vehicle.speed)"
      ],
      "metadata": {
        "colab": {
          "base_uri": "https://localhost:8080/"
        },
        "id": "DihqvL7wkdGv",
        "outputId": "7774464d-3b2b-432c-a20a-85a3682e2015"
      },
      "execution_count": 9,
      "outputs": [
        {
          "output_type": "stream",
          "name": "stdout",
          "text": [
            "Initial Speed: 0\n",
            "Accelerated Speed: 50\n"
          ]
        }
      ]
    },
    {
      "cell_type": "markdown",
      "source": [
        "18. Create a Country class with attributes for name and population. Add a method to display the country's information. Create an object and call the method.\n"
      ],
      "metadata": {
        "id": "x0Tviy8fk3Fq"
      }
    },
    {
      "cell_type": "code",
      "source": [
        "class Country:\n",
        "    def __init__(self, name, population):\n",
        "        self.name = name\n",
        "        self.population = population\n",
        "    def country_information(self):\n",
        "        print(\"Name:\", self.name)\n",
        "        print(\"Population:\", self.population)\n",
        "country = Country(\"India\",\"250 million\")\n",
        "country.country_information()"
      ],
      "metadata": {
        "colab": {
          "base_uri": "https://localhost:8080/"
        },
        "id": "uGQqs1k7k6Om",
        "outputId": "92226c02-6f80-4698-82d1-c00e7d158b8e"
      },
      "execution_count": 11,
      "outputs": [
        {
          "output_type": "stream",
          "name": "stdout",
          "text": [
            "Name: India\n",
            "Population: 250 million\n"
          ]
        }
      ]
    },
    {
      "cell_type": "markdown",
      "source": [
        "19. Define a Student class with attributes for name and a dictionary of subjects and grades. Add a method to calculate the average grade for all subjects. Create an object and print the average grade.\n"
      ],
      "metadata": {
        "id": "04tvLnvWl0yL"
      }
    },
    {
      "cell_type": "code",
      "source": [
        "class Student:\n",
        "    def __init__(self, name, subjects, grades):\n",
        "        self.name = name\n",
        "        self.subjects = subjects\n",
        "        self.grades = grades\n",
        "\n",
        "    def average_grade(self):\n",
        "        total_grade = sum(self.grades)\n",
        "        average = total_grade / len(self.grades)\n",
        "        return average\n",
        "student = Student(\"Navdeep Singh\", [\"Maths\", \"Science\"], [85, 90, 75])\n",
        "print(student.average_grade())\n",
        "\n",
        ""
      ],
      "metadata": {
        "colab": {
          "base_uri": "https://localhost:8080/"
        },
        "id": "Gz7d9glYl3P5",
        "outputId": "1626f63d-b007-4aae-f7be-8fecbabc0599"
      },
      "execution_count": 18,
      "outputs": [
        {
          "output_type": "stream",
          "name": "stdout",
          "text": [
            "83.33333333333333\n"
          ]
        }
      ]
    },
    {
      "cell_type": "markdown",
      "source": [
        "20. Create a Calendar class with attributes for day, month, and year. Add a method to display the date in DD/MM/YYYY format. Create an object and call the method."
      ],
      "metadata": {
        "id": "rYUGaTt7oGvi"
      }
    },
    {
      "cell_type": "code",
      "source": [
        "class Calender:\n",
        "    def __init__(self, day, month, year):\n",
        "        self.day = day\n",
        "        self.month = month\n",
        "        self.year = year\n",
        "    def Display_Date(self):\n",
        "        print(\"Date:\",self.day)\n",
        "        print(\"Month:\",self.month)\n",
        "        print(\"Year:\",self.year)\n",
        "calender = Calender(2,5,2005)\n",
        "calender.Display_Date()"
      ],
      "metadata": {
        "colab": {
          "base_uri": "https://localhost:8080/"
        },
        "id": "wIzOaEeDoHjh",
        "outputId": "2d0c8c5c-ccf5-4e01-b761-4cf6b475fef9"
      },
      "execution_count": 23,
      "outputs": [
        {
          "output_type": "stream",
          "name": "stdout",
          "text": [
            "Date: 2\n",
            "Month: 5\n",
            "Year: 2005\n"
          ]
        }
      ]
    }
  ]
}