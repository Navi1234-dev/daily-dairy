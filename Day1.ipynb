{
  "nbformat": 4,
  "nbformat_minor": 0,
  "metadata": {
    "colab": {
      "provenance": [],
      "authorship_tag": "ABX9TyOUqpo/LnGqYnR6tO1gZrDh",
      "include_colab_link": true
    },
    "kernelspec": {
      "name": "python3",
      "display_name": "Python 3"
    },
    "language_info": {
      "name": "python"
    }
  },
  "cells": [
    {
      "cell_type": "markdown",
      "metadata": {
        "id": "view-in-github",
        "colab_type": "text"
      },
      "source": [
        "<a href=\"https://colab.research.google.com/github/Navi1234-dev/daily-dairy/blob/main/Day1.ipynb\" target=\"_parent\"><img src=\"https://colab.research.google.com/assets/colab-badge.svg\" alt=\"Open In Colab\"/></a>"
      ]
    },
    {
      "cell_type": "code",
      "execution_count": null,
      "metadata": {
        "colab": {
          "base_uri": "https://localhost:8080/"
        },
        "id": "STa4njagLxJr",
        "outputId": "de702827-7577-42df-ae3b-9c7439ec59b4"
      },
      "outputs": [
        {
          "output_type": "stream",
          "name": "stdout",
          "text": [
            "Hello World!\n"
          ]
        }
      ],
      "source": [
        "print(\"Hello World!\")"
      ]
    },
    {
      "cell_type": "code",
      "source": [
        "a = 10\n",
        "b = 5\n",
        "\n",
        "# Addition\n",
        "print(\"Addition:\", a + b)\n",
        "\n",
        "# Subtraction\n",
        "print(\"Subtraction:\", a - b)\n",
        "\n",
        "# Multiplication\n",
        "print(\"Multiplication:\", a * b)\n",
        "\n",
        "# Division\n",
        "print(\"Division:\", a / b)\n",
        "\n",
        "#Floor Division\n",
        "print(\"Floor Division:\", a//b)\n",
        "\n",
        "#Modulo\n",
        "print(\"Modulo:\", a%b)\n",
        "\n",
        "#Exponential\n",
        "print(\"Exponential:\", a**b)\n"
      ],
      "metadata": {
        "colab": {
          "base_uri": "https://localhost:8080/"
        },
        "id": "bQ9jC8E5MfeP",
        "outputId": "e92a5ed9-dc59-42b7-b83c-e1d3c5bda7df"
      },
      "execution_count": null,
      "outputs": [
        {
          "output_type": "stream",
          "name": "stdout",
          "text": [
            "Addition: 15\n",
            "Subtraction: 5\n",
            "Multiplication: 50\n",
            "Division: 2.0\n",
            "Floor Division: 2\n",
            "Modulo: 0\n",
            "Exponential: 100000\n"
          ]
        }
      ]
    },
    {
      "cell_type": "code",
      "source": [
        "win_points = 3\n",
        "draw_points = 1\n",
        "lost_points = 0\n",
        "\n",
        "total_points = (6 * win_points) + (1 * draw_points) + (2 * lost_points)\n",
        "\n",
        "print(\"Total points scored:\", total_points)"
      ],
      "metadata": {
        "colab": {
          "base_uri": "https://localhost:8080/"
        },
        "id": "6b_OnvxNMn7v",
        "outputId": "d7c48fa5-9c2c-4ddf-a5f0-ec7c4054b6ef"
      },
      "execution_count": null,
      "outputs": [
        {
          "output_type": "stream",
          "name": "stdout",
          "text": [
            "Total points scored: 19\n"
          ]
        }
      ]
    },
    {
      "cell_type": "code",
      "source": [
        "r = 50\n",
        "a = 60\n",
        "ap = 20\n",
        "total = r + a + ap\n",
        "print(\"r percentages: \", r/ total * 100)\n",
        "print(\"a percentages: \", a/ total * 100)\n",
        "print(\"ap percentages: \", ap/ total * 100)\n",
        "print(total)\n",
        "if(r == a):\n",
        "  print(\"true\")\n",
        "else:\n",
        "  print(\"false\")"
      ],
      "metadata": {
        "colab": {
          "base_uri": "https://localhost:8080/"
        },
        "id": "1JhAEH3CMtSr",
        "outputId": "41c14ee3-ade0-43f2-b17c-be25334314db"
      },
      "execution_count": null,
      "outputs": [
        {
          "output_type": "stream",
          "name": "stdout",
          "text": [
            "r percentages:  38.46153846153847\n",
            "a percentages:  46.15384615384615\n",
            "ap percentages:  15.384615384615385\n",
            "130\n",
            "false\n"
          ]
        }
      ]
    },
    {
      "cell_type": "markdown",
      "source": [
        "You're creating a program to manage a zoo's animal population. Declare a variable lion_population with an initial value of 10. The zoo welcomes 5 new lion cubs. Update the lion_population variable and print the total lion population."
      ],
      "metadata": {
        "id": "sQ2qekWlM1oR"
      }
    },
    {
      "cell_type": "code",
      "source": [
        "lion_population = 10\n",
        "lion_population += 5\n",
        "print(\"Total lion population:\", lion_population)"
      ],
      "metadata": {
        "colab": {
          "base_uri": "https://localhost:8080/"
        },
        "id": "2mKuZ1yjM4GW",
        "outputId": "061fb4b2-aeaf-4177-8ae1-02b33a42db3f"
      },
      "execution_count": null,
      "outputs": [
        {
          "output_type": "stream",
          "name": "stdout",
          "text": [
            "Total lion population: 15\n"
          ]
        }
      ]
    },
    {
      "cell_type": "markdown",
      "source": [
        "You're developing a weather monitoring system. Declare a variable temperature with a value of 25.5 degrees Celsius. Due to a sudden heatwave, the temperature increases by 8 degrees. Update and print the new temperature."
      ],
      "metadata": {
        "id": "xkLsVx9bM9Kn"
      }
    },
    {
      "cell_type": "code",
      "source": [
        "temperature = 25.5\n",
        "temperature += 8\n",
        "print(\"Updated temperature:\", temperature)"
      ],
      "metadata": {
        "colab": {
          "base_uri": "https://localhost:8080/"
        },
        "id": "G0DlF0RzNDks",
        "outputId": "2d67c120-2f1c-40d9-d4d8-7d57b72092b7"
      },
      "execution_count": null,
      "outputs": [
        {
          "output_type": "stream",
          "name": "stdout",
          "text": [
            "Updated temperature: 33.5\n"
          ]
        }
      ]
    },
    {
      "cell_type": "markdown",
      "source": [
        "A science experiment involves tracking the growth of a plant. Declare a variable plant_height with an initial value of 15 centimeters. Over a week, the plant grows 2.5 centimeters taller each day. Update and print the final height of the plant after the week."
      ],
      "metadata": {
        "id": "zrau0SSqNG_o"
      }
    },
    {
      "cell_type": "code",
      "source": [
        "plant_height = 15\n",
        "growth_per_day = 2.5\n",
        "num_days = 7\n",
        "\n",
        "final_height = plant_height + (growth_per_day * num_days)\n",
        "\n",
        "print(\"Final height of the plant after a week:\", final_height, \"centimeters\")\n"
      ],
      "metadata": {
        "colab": {
          "base_uri": "https://localhost:8080/"
        },
        "id": "qP1_ZhPjNSUm",
        "outputId": "6f5517fa-8d58-4008-d2f6-53dffd5394ec"
      },
      "execution_count": null,
      "outputs": [
        {
          "output_type": "stream",
          "name": "stdout",
          "text": [
            "Final height of the plant after a week: 32.5 centimeters\n"
          ]
        }
      ]
    },
    {
      "cell_type": "markdown",
      "source": [
        "You're designing a space mission trajectory. Declare variables initial_velocity and acceleration with values 3000 meters per second and 500 meters per second squared respectively. Calculate and print the final velocity after 10 seconds\n",
        "\n",
        "[ ]\n"
      ],
      "metadata": {
        "id": "648Kb8GeNwuE"
      }
    },
    {
      "cell_type": "code",
      "source": [
        "initial_velocity = 3000\n",
        "acceleration = 500\n",
        "time = 10\n",
        "\n",
        "final_velocity = initial_velocity + (acceleration * time)\n",
        "\n",
        "print(\"Final velocity after 10 seconds:\", final_velocity, \"meters per second\")\n"
      ],
      "metadata": {
        "colab": {
          "base_uri": "https://localhost:8080/"
        },
        "id": "8ZFT6dGQN0O-",
        "outputId": "5572ef72-3384-4d16-ef90-11aacfeea8eb"
      },
      "execution_count": null,
      "outputs": [
        {
          "output_type": "stream",
          "name": "stdout",
          "text": [
            "Final velocity after 10 seconds: 8000 meters per second\n"
          ]
        }
      ]
    },
    {
      "cell_type": "markdown",
      "source": [
        "A group of friends is sharing a pizza. Declare a variable pizza_slices with a value of 8. Each friend wants to have an equal number of slices, and there are 5 friends. Calculate and print the maximum number of slices each friend can have without cutting the pizza.\n",
        "\n",
        "[ ]\n"
      ],
      "metadata": {
        "id": "mlfNyKlTN5lC"
      }
    },
    {
      "cell_type": "code",
      "source": [
        "pizza_slices = 8\n",
        "num_friends = 5\n",
        "\n",
        "max_slices_per_friend = pizza_slices // num_friends\n",
        "\n",
        "print(\"Maximum number of slices each friend can have:\", max_slices_per_friend)\n"
      ],
      "metadata": {
        "colab": {
          "base_uri": "https://localhost:8080/"
        },
        "id": "ZSSbFuk6N95N",
        "outputId": "df940af7-8c64-46a1-cd85-def7d45226c6"
      },
      "execution_count": null,
      "outputs": [
        {
          "output_type": "stream",
          "name": "stdout",
          "text": [
            "Maximum number of slices each friend can have: 1\n"
          ]
        }
      ]
    },
    {
      "cell_type": "markdown",
      "source": [
        "You're modeling the movement of a pendulum. Declare a variable pendulum_length with a value of 1.2 meters. Calculate and print the period of oscillation (time taken for one complete swing) using the formula ( T = 2\\pi \\sqrt{\\frac{L}{g}} ), where ( \\pi ) is pi (approximately 3.14159) and ( g ) is the acceleration due to gravity (approximately ( 9.81 ) meters per second squared)."
      ],
      "metadata": {
        "id": "PTpiR5UKODaU"
      }
    },
    {
      "cell_type": "code",
      "source": [
        "import math\n",
        "\n",
        "pendulum_length = 1.2\n",
        "gravity = 9.81\n",
        "pie = 3.14159\n",
        "period = 2 * math.pi * math.sqrt(pendulum_length / gravity)\n",
        "# period = 2 * pie * (pendulum_length/gravity)**0.5\n",
        "\n",
        "print(\"Period of oscillation:\", period, \"seconds\")"
      ],
      "metadata": {
        "colab": {
          "base_uri": "https://localhost:8080/"
        },
        "id": "GbIjNCUDOKmx",
        "outputId": "482e06f9-f337-43f6-dc42-e7bb1af1a520"
      },
      "execution_count": null,
      "outputs": [
        {
          "output_type": "stream",
          "name": "stdout",
          "text": [
            "Period of oscillation: 2.1975359457694705 seconds\n"
          ]
        }
      ]
    },
    {
      "cell_type": "markdown",
      "source": [
        "A software company is tracking the number of bugs in their codebase. Declare a variable bug_count with an initial value of 100. After a round of debugging, 35 bugs are fixed. Update and print the new bug_count.\n",
        "\n"
      ],
      "metadata": {
        "id": "crnSU_8xOOek"
      }
    },
    {
      "cell_type": "code",
      "source": [
        "bug_count = 100\n",
        "fixed_bugs = 35\n",
        "\n",
        "bug_count -= fixed_bugs\n",
        "\n",
        "print(\"New bug count:\", bug_count)"
      ],
      "metadata": {
        "colab": {
          "base_uri": "https://localhost:8080/"
        },
        "id": "z8RrH9l2OPYb",
        "outputId": "c6887279-b5dd-44c2-d94d-f4a5714513ac"
      },
      "execution_count": null,
      "outputs": [
        {
          "output_type": "stream",
          "name": "stdout",
          "text": [
            "New bug count: 65\n"
          ]
        }
      ]
    },
    {
      "cell_type": "markdown",
      "source": [
        "You're building a game where players collect gems. Declare a variable gem_count with an initial value of 50. Each time a player finds a gem, 5 gems are added to their collection. Update and print the new gem_count\n",
        "\n",
        "[ ]\n"
      ],
      "metadata": {
        "id": "K7jvkYZSOSvL"
      }
    },
    {
      "cell_type": "code",
      "source": [
        "gem_count = 50\n",
        "gems_collected = 5\n",
        "\n",
        "gem_count += gems_collected\n",
        "\n",
        "print(\"New gem count:\", gem_count)\n"
      ],
      "metadata": {
        "colab": {
          "base_uri": "https://localhost:8080/"
        },
        "id": "Oi89Nh4MOVHt",
        "outputId": "0ccb401e-2ff2-43d1-c93a-f32bd69779fe"
      },
      "execution_count": null,
      "outputs": [
        {
          "output_type": "stream",
          "name": "stdout",
          "text": [
            "New gem count: 55\n"
          ]
        }
      ]
    },
    {
      "cell_type": "markdown",
      "source": [
        "A fitness tracker is monitoring a user's heart rate variability (HRV). Declare a variable hrv_index with an initial value of 80. After a relaxation session, the user's HRV improves by 10 points. Update and print the new hrv_index.\n",
        "\n"
      ],
      "metadata": {
        "id": "-8oc1r1xOZkO"
      }
    },
    {
      "cell_type": "code",
      "source": [
        "hrv_index = 80\n",
        "hrv_improvement = 10\n",
        "\n",
        "hrv_index += hrv_improvement\n",
        "\n",
        "print(\"New HRV index:\", hrv_index)"
      ],
      "metadata": {
        "colab": {
          "base_uri": "https://localhost:8080/"
        },
        "id": "VEMnzBOtOct9",
        "outputId": "9e700df9-6916-43b1-fac9-2b55d9ebed35"
      },
      "execution_count": null,
      "outputs": [
        {
          "output_type": "stream",
          "name": "stdout",
          "text": [
            "New HRV index: 90\n"
          ]
        }
      ]
    },
    {
      "cell_type": "markdown",
      "source": [
        "You're simulating the growth of a bacterial colony. Declare a variable bacteria_count with an initial value of 5000. Over a day, the colony doubles in size every 4 hours. Update and print the new bacteria_count.\n",
        "\n",
        "[ ]\n"
      ],
      "metadata": {
        "id": "hA8pwBdbOjTS"
      }
    },
    {
      "cell_type": "code",
      "source": [
        "bacteria_count = 5000\n",
        "doubling_time = 4\n",
        "\n",
        "num_doublings = 24 / doubling_time\n",
        "\n",
        "new_bacteria_count = bacteria_count * 2**num_doublings\n",
        "\n",
        "print(\"New bacteria count:\", new_bacteria_count)"
      ],
      "metadata": {
        "colab": {
          "base_uri": "https://localhost:8080/"
        },
        "id": "3adoaAJ5OoMt",
        "outputId": "dd99ae70-7617-4e32-9173-20fe9c5553f6"
      },
      "execution_count": null,
      "outputs": [
        {
          "output_type": "stream",
          "name": "stdout",
          "text": [
            "New bacteria count: 320000.0\n"
          ]
        }
      ]
    },
    {
      "cell_type": "markdown",
      "source": [],
      "metadata": {
        "id": "2rAnCYwlOvH2"
      }
    }
  ]
}